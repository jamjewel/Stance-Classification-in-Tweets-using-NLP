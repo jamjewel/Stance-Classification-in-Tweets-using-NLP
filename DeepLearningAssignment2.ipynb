{
 "cells": [
  {
   "cell_type": "markdown",
   "metadata": {},
   "source": [
    "# Stance Classification In Tweets"
   ]
  },
  {
   "cell_type": "code",
   "execution_count": 1,
   "metadata": {},
   "outputs": [
    {
     "name": "stderr",
     "output_type": "stream",
     "text": [
      "Using TensorFlow backend.\n"
     ]
    },
    {
     "data": {
      "text/plain": [
       "'2.0.2'"
      ]
     },
     "execution_count": 1,
     "metadata": {},
     "output_type": "execute_result"
    }
   ],
   "source": [
    "import tensorflow as tf\n",
    "AUTOTUNE = tf.data.experimental.AUTOTUNE\n",
    "import IPython.display as display\n",
    "from PIL import Image\n",
    "import keras \n",
    "import re\n",
    "import pathlib\n",
    "import tempfile\n",
    "import shutil\n",
    "from keras.models import Sequential\n",
    "from keras.layers import Dense, Dropout, Flatten\n",
    "from keras.layers import Conv2D, MaxPooling2D, Convolution2D\n",
    "from keras.utils import to_categorical\n",
    "from keras.preprocessing import image\n",
    "import numpy as np\n",
    "import pandas as pd\n",
    "from  IPython import display\n",
    "import matplotlib.pyplot as plt\n",
    "from sklearn.model_selection import train_test_split\n",
    "from tqdm import tqdm\n",
    "from statsmodels.graphics.mosaicplot import mosaic\n",
    "tf.keras.optimizers.RMSprop\n",
    "get_ipython().run_line_magic('matplotlib', 'inline')\n",
    "import os\n",
    "tf.__version__"
   ]
  },
  {
   "cell_type": "markdown",
   "metadata": {},
   "source": [
    "## Upload and unzip data file"
   ]
  },
  {
   "cell_type": "code",
   "execution_count": 2,
   "metadata": {},
   "outputs": [],
   "source": [
    "import zipfile\n",
    "with zipfile.ZipFile('./StanceDataset.zip', 'r') as zip_ref:\n",
    " zip_ref.extractall('./')"
   ]
  },
  {
   "cell_type": "markdown",
   "metadata": {},
   "source": [
    "## Reading training data"
   ]
  },
  {
   "cell_type": "code",
   "execution_count": 3,
   "metadata": {},
   "outputs": [],
   "source": [
    "train = pd.read_csv('./StanceDataset/train.csv', index_col=None, header=0, engine='python' )"
   ]
  },
  {
   "cell_type": "markdown",
   "metadata": {},
   "source": [
    "## Understand Data and Preprocessing"
   ]
  },
  {
   "cell_type": "code",
   "execution_count": 4,
   "metadata": {},
   "outputs": [
    {
     "data": {
      "text/plain": [
       "(2914, 5)"
      ]
     },
     "execution_count": 4,
     "metadata": {},
     "output_type": "execute_result"
    }
   ],
   "source": [
    "train.shape"
   ]
  },
  {
   "cell_type": "markdown",
   "metadata": {},
   "source": [
    "## Checking shape of training data and creating a plot to analyse Bias in data"
   ]
  },
  {
   "cell_type": "code",
   "execution_count": 5,
   "metadata": {},
   "outputs": [],
   "source": [
    "#grouping\n",
    "shape_data_group_target= train.groupby([\"Target\"])\n",
    "shape_data_group_plot_target= shape_data_group_target.count()"
   ]
  },
  {
   "cell_type": "code",
   "execution_count": 6,
   "metadata": {},
   "outputs": [
    {
     "data": {
      "text/html": [
       "<div>\n",
       "<style scoped>\n",
       "    .dataframe tbody tr th:only-of-type {\n",
       "        vertical-align: middle;\n",
       "    }\n",
       "\n",
       "    .dataframe tbody tr th {\n",
       "        vertical-align: top;\n",
       "    }\n",
       "\n",
       "    .dataframe thead th {\n",
       "        text-align: right;\n",
       "    }\n",
       "</style>\n",
       "<table border=\"1\" class=\"dataframe\">\n",
       "  <thead>\n",
       "    <tr style=\"text-align: right;\">\n",
       "      <th></th>\n",
       "      <th>Tweet</th>\n",
       "      <th>Stance</th>\n",
       "      <th>Opinion Towards</th>\n",
       "      <th>Sentiment</th>\n",
       "    </tr>\n",
       "    <tr>\n",
       "      <th>Target</th>\n",
       "      <th></th>\n",
       "      <th></th>\n",
       "      <th></th>\n",
       "      <th></th>\n",
       "    </tr>\n",
       "  </thead>\n",
       "  <tbody>\n",
       "    <tr>\n",
       "      <th>Atheism</th>\n",
       "      <td>513</td>\n",
       "      <td>513</td>\n",
       "      <td>513</td>\n",
       "      <td>513</td>\n",
       "    </tr>\n",
       "    <tr>\n",
       "      <th>Climate Change is a Real Concern</th>\n",
       "      <td>395</td>\n",
       "      <td>395</td>\n",
       "      <td>395</td>\n",
       "      <td>395</td>\n",
       "    </tr>\n",
       "    <tr>\n",
       "      <th>Feminist Movement</th>\n",
       "      <td>664</td>\n",
       "      <td>664</td>\n",
       "      <td>664</td>\n",
       "      <td>664</td>\n",
       "    </tr>\n",
       "    <tr>\n",
       "      <th>Hillary Clinton</th>\n",
       "      <td>689</td>\n",
       "      <td>689</td>\n",
       "      <td>689</td>\n",
       "      <td>689</td>\n",
       "    </tr>\n",
       "    <tr>\n",
       "      <th>Legalization of Abortion</th>\n",
       "      <td>653</td>\n",
       "      <td>653</td>\n",
       "      <td>653</td>\n",
       "      <td>653</td>\n",
       "    </tr>\n",
       "  </tbody>\n",
       "</table>\n",
       "</div>"
      ],
      "text/plain": [
       "                                  Tweet  Stance  Opinion Towards  Sentiment\n",
       "Target                                                                     \n",
       "Atheism                             513     513              513        513\n",
       "Climate Change is a Real Concern    395     395              395        395\n",
       "Feminist Movement                   664     664              664        664\n",
       "Hillary Clinton                     689     689              689        689\n",
       "Legalization of Abortion            653     653              653        653"
      ]
     },
     "execution_count": 6,
     "metadata": {},
     "output_type": "execute_result"
    },
    {
     "data": {
      "image/png": "[encoded data removed]",
      "text/plain": [
       "<Figure size 432x288 with 1 Axes>"
      ]
     },
     "metadata": {
      "needs_background": "light"
     },
     "output_type": "display_data"
    }
   ],
   "source": [
    "#plotting bar chart\n",
    "shape_data_group_plot_target.plot(kind='bar',color=('darkred'))\n",
    "shape_data_group_target.count()"
   ]
  },
  {
   "cell_type": "code",
   "execution_count": 7,
   "metadata": {},
   "outputs": [
    {
     "data": {
      "text/html": [
       "<div>\n",
       "<style scoped>\n",
       "    .dataframe tbody tr th:only-of-type {\n",
       "        vertical-align: middle;\n",
       "    }\n",
       "\n",
       "    .dataframe tbody tr th {\n",
       "        vertical-align: top;\n",
       "    }\n",
       "\n",
       "    .dataframe thead th {\n",
       "        text-align: right;\n",
       "    }\n",
       "</style>\n",
       "<table border=\"1\" class=\"dataframe\">\n",
       "  <thead>\n",
       "    <tr style=\"text-align: right;\">\n",
       "      <th></th>\n",
       "      <th>Tweet</th>\n",
       "      <th>Target</th>\n",
       "      <th>Opinion Towards</th>\n",
       "      <th>Sentiment</th>\n",
       "    </tr>\n",
       "    <tr>\n",
       "      <th>Stance</th>\n",
       "      <th></th>\n",
       "      <th></th>\n",
       "      <th></th>\n",
       "      <th></th>\n",
       "    </tr>\n",
       "  </thead>\n",
       "  <tbody>\n",
       "    <tr>\n",
       "      <th>AGAINST</th>\n",
       "      <td>1395</td>\n",
       "      <td>1395</td>\n",
       "      <td>1395</td>\n",
       "      <td>1395</td>\n",
       "    </tr>\n",
       "    <tr>\n",
       "      <th>FAVOR</th>\n",
       "      <td>753</td>\n",
       "      <td>753</td>\n",
       "      <td>753</td>\n",
       "      <td>753</td>\n",
       "    </tr>\n",
       "    <tr>\n",
       "      <th>NONE</th>\n",
       "      <td>766</td>\n",
       "      <td>766</td>\n",
       "      <td>766</td>\n",
       "      <td>766</td>\n",
       "    </tr>\n",
       "  </tbody>\n",
       "</table>\n",
       "</div>"
      ],
      "text/plain": [
       "         Tweet  Target  Opinion Towards  Sentiment\n",
       "Stance                                            \n",
       "AGAINST   1395    1395             1395       1395\n",
       "FAVOR      753     753              753        753\n",
       "NONE       766     766              766        766"
      ]
     },
     "execution_count": 7,
     "metadata": {},
     "output_type": "execute_result"
    },
    {
     "data": {
      "image/png": "[encoded data removed]",
      "text/plain": [
       "<Figure size 432x288 with 1 Axes>"
      ]
     },
     "metadata": {
      "needs_background": "light"
     },
     "output_type": "display_data"
    }
   ],
   "source": [
    "#grouping\n",
    "shape_data_group_stance= train.groupby([\"Stance\"])\n",
    "shape_data_group_plot_stance= shape_data_group_stance.count()\n",
    "#plotting bar chart\n",
    "shape_data_group_plot_stance.plot('Target',kind='bar',color=('darkgreen'))\n",
    "shape_data_group_stance.count()"
   ]
  },
  {
   "cell_type": "code",
   "execution_count": 8,
   "metadata": {},
   "outputs": [
    {
     "data": {
      "image/png": "[encoded data removed]",
      "text/plain": [
       "<Figure size 864x864 with 3 Axes>"
      ]
     },
     "metadata": {
      "needs_background": "light"
     },
     "output_type": "display_data"
    }
   ],
   "source": [
    "df1 = pd.DataFrame(train,columns=['Target','Stance'])\n",
    "\n",
    "from statsmodels.graphics.mosaicplot import mosaic\n",
    "plt.rcParams['font.size'] = 10.0\n",
    "plt.rcParams[\"figure.figsize\"]=(12.0, 12.0)\n",
    "mosaic(df1, ['Target', 'Stance'],gap=0.01,title='Stance Distribution for each categorical Target');\n"
   ]
  },
  {
   "cell_type": "markdown",
   "metadata": {},
   "source": [
    "## Splitting Data into TRAIN, TEST AND VALIDATION"
   ]
  },
  {
   "cell_type": "code",
   "execution_count": 9,
   "metadata": {},
   "outputs": [
    {
     "name": "stdout",
     "output_type": "stream",
     "text": [
      "Train size: 1864, Test size: 467\n"
     ]
    }
   ],
   "source": [
    "\n",
    "from sklearn.model_selection import train_test_split\n",
    "\n",
    "train_data, test_data = train_test_split(train,test_size = 0.2)\n",
    "training_data, validation_data = train_test_split(train_data,test_size = 0.2)\n",
    "\n",
    "# Generate two data frames for training and validation #\n",
    "print('Train size: {}, Test size: {}'.format(training_data.shape[0], validation_data.shape[0] ) ) \n",
    "N_train = training_data.shape[0]\n",
    "N_val = validation_data.shape[0]"
   ]
  },
  {
   "cell_type": "code",
   "execution_count": 10,
   "metadata": {},
   "outputs": [
    {
     "data": {
      "text/plain": [
       "(1864, 5)"
      ]
     },
     "execution_count": 10,
     "metadata": {},
     "output_type": "execute_result"
    }
   ],
   "source": [
    "training_data.shape"
   ]
  },
  {
   "cell_type": "code",
   "execution_count": 11,
   "metadata": {},
   "outputs": [
    {
     "data": {
      "text/plain": [
       "(583, 5)"
      ]
     },
     "execution_count": 11,
     "metadata": {},
     "output_type": "execute_result"
    }
   ],
   "source": [
    "test_data.shape"
   ]
  },
  {
   "cell_type": "code",
   "execution_count": 12,
   "metadata": {},
   "outputs": [
    {
     "data": {
      "text/plain": [
       "(467, 5)"
      ]
     },
     "execution_count": 12,
     "metadata": {},
     "output_type": "execute_result"
    }
   ],
   "source": [
    "validation_data.shape"
   ]
  },
  {
   "cell_type": "code",
   "execution_count": 13,
   "metadata": {},
   "outputs": [
    {
     "data": {
      "text/html": [
       "<div>\n",
       "<style scoped>\n",
       "    .dataframe tbody tr th:only-of-type {\n",
       "        vertical-align: middle;\n",
       "    }\n",
       "\n",
       "    .dataframe tbody tr th {\n",
       "        vertical-align: top;\n",
       "    }\n",
       "\n",
       "    .dataframe thead th {\n",
       "        text-align: right;\n",
       "    }\n",
       "</style>\n",
       "<table border=\"1\" class=\"dataframe\">\n",
       "  <thead>\n",
       "    <tr style=\"text-align: right;\">\n",
       "      <th></th>\n",
       "      <th>Tweet</th>\n",
       "      <th>Target</th>\n",
       "      <th>Stance</th>\n",
       "      <th>Opinion Towards</th>\n",
       "      <th>Sentiment</th>\n",
       "    </tr>\n",
       "  </thead>\n",
       "  <tbody>\n",
       "    <tr>\n",
       "      <th>1727</th>\n",
       "      <td>@Bluesaloon Women are not a demographic, we ar...</td>\n",
       "      <td>Hillary Clinton</td>\n",
       "      <td>NONE</td>\n",
       "      <td>3.  The tweet is not explicitly expressing opi...</td>\n",
       "      <td>neg</td>\n",
       "    </tr>\n",
       "    <tr>\n",
       "      <th>2601</th>\n",
       "      <td>Every good Christian wants to make sure the un...</td>\n",
       "      <td>Legalization of Abortion</td>\n",
       "      <td>NONE</td>\n",
       "      <td>2. The tweet does NOT expresses opinion about ...</td>\n",
       "      <td>neg</td>\n",
       "    </tr>\n",
       "    <tr>\n",
       "      <th>1996</th>\n",
       "      <td>Fox News predicting 3 way marriage-gee we have...</td>\n",
       "      <td>Hillary Clinton</td>\n",
       "      <td>NONE</td>\n",
       "      <td>2. The tweet does NOT expresses opinion about ...</td>\n",
       "      <td>neg</td>\n",
       "    </tr>\n",
       "    <tr>\n",
       "      <th>321</th>\n",
       "      <td>The world was made a better place today, even ...</td>\n",
       "      <td>Atheism</td>\n",
       "      <td>NONE</td>\n",
       "      <td>2. The tweet does NOT expresses opinion about ...</td>\n",
       "      <td>pos</td>\n",
       "    </tr>\n",
       "    <tr>\n",
       "      <th>1371</th>\n",
       "      <td>Men want women to take their name in marriage ...</td>\n",
       "      <td>Feminist Movement</td>\n",
       "      <td>FAVOR</td>\n",
       "      <td>1.  The tweet explicitly expresses opinion abo...</td>\n",
       "      <td>neg</td>\n",
       "    </tr>\n",
       "    <tr>\n",
       "      <th>...</th>\n",
       "      <td>...</td>\n",
       "      <td>...</td>\n",
       "      <td>...</td>\n",
       "      <td>...</td>\n",
       "      <td>...</td>\n",
       "    </tr>\n",
       "    <tr>\n",
       "      <th>1304</th>\n",
       "      <td>#feminists gave women the right to vote. #femi...</td>\n",
       "      <td>Feminist Movement</td>\n",
       "      <td>AGAINST</td>\n",
       "      <td>1.  The tweet explicitly expresses opinion abo...</td>\n",
       "      <td>neg</td>\n",
       "    </tr>\n",
       "    <tr>\n",
       "      <th>112</th>\n",
       "      <td>RT @prayerbullets: Let the righteousness, peac...</td>\n",
       "      <td>Atheism</td>\n",
       "      <td>AGAINST</td>\n",
       "      <td>2. The tweet does NOT expresses opinion about ...</td>\n",
       "      <td>pos</td>\n",
       "    </tr>\n",
       "    <tr>\n",
       "      <th>364</th>\n",
       "      <td>Humanist Canada stands by the US Supreme Court...</td>\n",
       "      <td>Atheism</td>\n",
       "      <td>NONE</td>\n",
       "      <td>2. The tweet does NOT expresses opinion about ...</td>\n",
       "      <td>pos</td>\n",
       "    </tr>\n",
       "    <tr>\n",
       "      <th>807</th>\n",
       "      <td>Dallas still hasn't hit 100 this year. #SemST</td>\n",
       "      <td>Climate Change is a Real Concern</td>\n",
       "      <td>NONE</td>\n",
       "      <td>3.  The tweet is not explicitly expressing opi...</td>\n",
       "      <td>other</td>\n",
       "    </tr>\n",
       "    <tr>\n",
       "      <th>1726</th>\n",
       "      <td>Chipotle employees shouldn't complain Hillary ...</td>\n",
       "      <td>Hillary Clinton</td>\n",
       "      <td>AGAINST</td>\n",
       "      <td>1.  The tweet explicitly expresses opinion abo...</td>\n",
       "      <td>neg</td>\n",
       "    </tr>\n",
       "  </tbody>\n",
       "</table>\n",
       "<p>1864 rows × 5 columns</p>\n",
       "</div>"
      ],
      "text/plain": [
       "                                                  Tweet  \\\n",
       "1727  @Bluesaloon Women are not a demographic, we ar...   \n",
       "2601  Every good Christian wants to make sure the un...   \n",
       "1996  Fox News predicting 3 way marriage-gee we have...   \n",
       "321   The world was made a better place today, even ...   \n",
       "1371  Men want women to take their name in marriage ...   \n",
       "...                                                 ...   \n",
       "1304  #feminists gave women the right to vote. #femi...   \n",
       "112   RT @prayerbullets: Let the righteousness, peac...   \n",
       "364   Humanist Canada stands by the US Supreme Court...   \n",
       "807       Dallas still hasn't hit 100 this year. #SemST   \n",
       "1726  Chipotle employees shouldn't complain Hillary ...   \n",
       "\n",
       "                                Target   Stance  \\\n",
       "1727                   Hillary Clinton     NONE   \n",
       "2601          Legalization of Abortion     NONE   \n",
       "1996                   Hillary Clinton     NONE   \n",
       "321                            Atheism     NONE   \n",
       "1371                 Feminist Movement    FAVOR   \n",
       "...                                ...      ...   \n",
       "1304                 Feminist Movement  AGAINST   \n",
       "112                            Atheism  AGAINST   \n",
       "364                            Atheism     NONE   \n",
       "807   Climate Change is a Real Concern     NONE   \n",
       "1726                   Hillary Clinton  AGAINST   \n",
       "\n",
       "                                        Opinion Towards Sentiment  \n",
       "1727  3.  The tweet is not explicitly expressing opi...       neg  \n",
       "2601  2. The tweet does NOT expresses opinion about ...       neg  \n",
       "1996  2. The tweet does NOT expresses opinion about ...       neg  \n",
       "321   2. The tweet does NOT expresses opinion about ...       pos  \n",
       "1371  1.  The tweet explicitly expresses opinion abo...       neg  \n",
       "...                                                 ...       ...  \n",
       "1304  1.  The tweet explicitly expresses opinion abo...       neg  \n",
       "112   2. The tweet does NOT expresses opinion about ...       pos  \n",
       "364   2. The tweet does NOT expresses opinion about ...       pos  \n",
       "807   3.  The tweet is not explicitly expressing opi...     other  \n",
       "1726  1.  The tweet explicitly expresses opinion abo...       neg  \n",
       "\n",
       "[1864 rows x 5 columns]"
      ]
     },
     "execution_count": 13,
     "metadata": {},
     "output_type": "execute_result"
    }
   ],
   "source": [
    "training_data"
   ]
  },
  {
   "cell_type": "markdown",
   "metadata": {},
   "source": [
    "## Cleaning Data"
   ]
  },
  {
   "cell_type": "code",
   "execution_count": 14,
   "metadata": {},
   "outputs": [],
   "source": [
    "training_data = training_data.applymap(str)"
   ]
  },
  {
   "cell_type": "code",
   "execution_count": 15,
   "metadata": {},
   "outputs": [],
   "source": [
    "training_data[\"Tweet\"] = training_data[\"Tweet\"].apply(str)"
   ]
  },
  {
   "cell_type": "code",
   "execution_count": 16,
   "metadata": {},
   "outputs": [
    {
     "data": {
      "text/plain": [
       "<bound method DataFrame.info of                                                   Tweet  \\\n",
       "1727  @Bluesaloon Women are not a demographic, we ar...   \n",
       "2601  Every good Christian wants to make sure the un...   \n",
       "1996  Fox News predicting 3 way marriage-gee we have...   \n",
       "321   The world was made a better place today, even ...   \n",
       "1371  Men want women to take their name in marriage ...   \n",
       "...                                                 ...   \n",
       "1304  #feminists gave women the right to vote. #femi...   \n",
       "112   RT @prayerbullets: Let the righteousness, peac...   \n",
       "364   Humanist Canada stands by the US Supreme Court...   \n",
       "807       Dallas still hasn't hit 100 this year. #SemST   \n",
       "1726  Chipotle employees shouldn't complain Hillary ...   \n",
       "\n",
       "                                Target   Stance  \\\n",
       "1727                   Hillary Clinton     NONE   \n",
       "2601          Legalization of Abortion     NONE   \n",
       "1996                   Hillary Clinton     NONE   \n",
       "321                            Atheism     NONE   \n",
       "1371                 Feminist Movement    FAVOR   \n",
       "...                                ...      ...   \n",
       "1304                 Feminist Movement  AGAINST   \n",
       "112                            Atheism  AGAINST   \n",
       "364                            Atheism     NONE   \n",
       "807   Climate Change is a Real Concern     NONE   \n",
       "1726                   Hillary Clinton  AGAINST   \n",
       "\n",
       "                                        Opinion Towards Sentiment  \n",
       "1727  3.  The tweet is not explicitly expressing opi...       neg  \n",
       "2601  2. The tweet does NOT expresses opinion about ...       neg  \n",
       "1996  2. The tweet does NOT expresses opinion about ...       neg  \n",
       "321   2. The tweet does NOT expresses opinion about ...       pos  \n",
       "1371  1.  The tweet explicitly expresses opinion abo...       neg  \n",
       "...                                                 ...       ...  \n",
       "1304  1.  The tweet explicitly expresses opinion abo...       neg  \n",
       "112   2. The tweet does NOT expresses opinion about ...       pos  \n",
       "364   2. The tweet does NOT expresses opinion about ...       pos  \n",
       "807   3.  The tweet is not explicitly expressing opi...     other  \n",
       "1726  1.  The tweet explicitly expresses opinion abo...       neg  \n",
       "\n",
       "[1864 rows x 5 columns]>"
      ]
     },
     "execution_count": 16,
     "metadata": {},
     "output_type": "execute_result"
    }
   ],
   "source": [
    "training_data.info"
   ]
  },
  {
   "cell_type": "code",
   "execution_count": 17,
   "metadata": {},
   "outputs": [],
   "source": [
    "\n",
    "# Apply a first round of text cleaning techniques\n",
    "import re\n",
    "import string\n",
    "\n",
    "def clean_text_round1(text):\n",
    "    ''' Remove text in square brackets, remove punctuation and remove words containing numbers.'''\n",
    "    text = re.sub('\\[.*?\\]', '', text)\n",
    "    text = re.sub('[%s]' % re.escape(string.punctuation), '', text)\n",
    "    text = re.sub('\\w*\\d\\w*', '', text)\n",
    "    return text\n",
    "round1 = lambda x: clean_text_round1(x)\n"
   ]
  },
  {
   "cell_type": "code",
   "execution_count": 18,
   "metadata": {},
   "outputs": [
    {
     "data": {
      "text/html": [
       "<div>\n",
       "<style scoped>\n",
       "    .dataframe tbody tr th:only-of-type {\n",
       "        vertical-align: middle;\n",
       "    }\n",
       "\n",
       "    .dataframe tbody tr th {\n",
       "        vertical-align: top;\n",
       "    }\n",
       "\n",
       "    .dataframe thead th {\n",
       "        text-align: right;\n",
       "    }\n",
       "</style>\n",
       "<table border=\"1\" class=\"dataframe\">\n",
       "  <thead>\n",
       "    <tr style=\"text-align: right;\">\n",
       "      <th></th>\n",
       "      <th>Tweet</th>\n",
       "      <th>Target</th>\n",
       "      <th>Stance</th>\n",
       "      <th>Opinion Towards</th>\n",
       "      <th>Sentiment</th>\n",
       "    </tr>\n",
       "  </thead>\n",
       "  <tbody>\n",
       "    <tr>\n",
       "      <th>1727</th>\n",
       "      <td>Bluesaloon Women are not a demographic we are ...</td>\n",
       "      <td>Hillary Clinton</td>\n",
       "      <td>NONE</td>\n",
       "      <td>3.  The tweet is not explicitly expressing opi...</td>\n",
       "      <td>neg</td>\n",
       "    </tr>\n",
       "    <tr>\n",
       "      <th>2601</th>\n",
       "      <td>Every good Christian wants to make sure the un...</td>\n",
       "      <td>Legalization of Abortion</td>\n",
       "      <td>NONE</td>\n",
       "      <td>2. The tweet does NOT expresses opinion about ...</td>\n",
       "      <td>neg</td>\n",
       "    </tr>\n",
       "    <tr>\n",
       "      <th>1996</th>\n",
       "      <td>Fox News predicting  way marriagegee we have t...</td>\n",
       "      <td>Hillary Clinton</td>\n",
       "      <td>NONE</td>\n",
       "      <td>2. The tweet does NOT expresses opinion about ...</td>\n",
       "      <td>neg</td>\n",
       "    </tr>\n",
       "    <tr>\n",
       "      <th>321</th>\n",
       "      <td>The world was made a better place today even i...</td>\n",
       "      <td>Atheism</td>\n",
       "      <td>NONE</td>\n",
       "      <td>2. The tweet does NOT expresses opinion about ...</td>\n",
       "      <td>pos</td>\n",
       "    </tr>\n",
       "    <tr>\n",
       "      <th>1371</th>\n",
       "      <td>Men want women to take their name in marriage ...</td>\n",
       "      <td>Feminist Movement</td>\n",
       "      <td>FAVOR</td>\n",
       "      <td>1.  The tweet explicitly expresses opinion abo...</td>\n",
       "      <td>neg</td>\n",
       "    </tr>\n",
       "  </tbody>\n",
       "</table>\n",
       "</div>"
      ],
      "text/plain": [
       "                                                  Tweet  \\\n",
       "1727  Bluesaloon Women are not a demographic we are ...   \n",
       "2601  Every good Christian wants to make sure the un...   \n",
       "1996  Fox News predicting  way marriagegee we have t...   \n",
       "321   The world was made a better place today even i...   \n",
       "1371  Men want women to take their name in marriage ...   \n",
       "\n",
       "                        Target Stance  \\\n",
       "1727           Hillary Clinton   NONE   \n",
       "2601  Legalization of Abortion   NONE   \n",
       "1996           Hillary Clinton   NONE   \n",
       "321                    Atheism   NONE   \n",
       "1371         Feminist Movement  FAVOR   \n",
       "\n",
       "                                        Opinion Towards Sentiment  \n",
       "1727  3.  The tweet is not explicitly expressing opi...       neg  \n",
       "2601  2. The tweet does NOT expresses opinion about ...       neg  \n",
       "1996  2. The tweet does NOT expresses opinion about ...       neg  \n",
       "321   2. The tweet does NOT expresses opinion about ...       pos  \n",
       "1371  1.  The tweet explicitly expresses opinion abo...       neg  "
      ]
     },
     "execution_count": 18,
     "metadata": {},
     "output_type": "execute_result"
    }
   ],
   "source": [
    "\n",
    "# Let's take a look at the updated text\n",
    "training_data['Tweet'] = training_data['Tweet'].apply(round1)\n",
    "training_data.head(5)"
   ]
  },
  {
   "cell_type": "code",
   "execution_count": 19,
   "metadata": {},
   "outputs": [],
   "source": [
    "# Apply a second round of cleaning\n",
    "def clean_text_round2(text):\n",
    "    '''Get rid of some additional punctuation and non-sensical text that was missed the first time around.'''\n",
    "    text = re.sub('[‘’“”…]', '', text)\n",
    "    text = re.sub('\\n', '', text)\n",
    "    return text\n",
    "round2 = lambda x: clean_text_round2(x)\n"
   ]
  },
  {
   "cell_type": "code",
   "execution_count": 20,
   "metadata": {},
   "outputs": [
    {
     "data": {
      "text/html": [
       "<div>\n",
       "<style scoped>\n",
       "    .dataframe tbody tr th:only-of-type {\n",
       "        vertical-align: middle;\n",
       "    }\n",
       "\n",
       "    .dataframe tbody tr th {\n",
       "        vertical-align: top;\n",
       "    }\n",
       "\n",
       "    .dataframe thead th {\n",
       "        text-align: right;\n",
       "    }\n",
       "</style>\n",
       "<table border=\"1\" class=\"dataframe\">\n",
       "  <thead>\n",
       "    <tr style=\"text-align: right;\">\n",
       "      <th></th>\n",
       "      <th>Tweet</th>\n",
       "      <th>Target</th>\n",
       "      <th>Stance</th>\n",
       "      <th>Opinion Towards</th>\n",
       "      <th>Sentiment</th>\n",
       "    </tr>\n",
       "  </thead>\n",
       "  <tbody>\n",
       "    <tr>\n",
       "      <th>1727</th>\n",
       "      <td>Bluesaloon Women are not a demographic we are ...</td>\n",
       "      <td>Hillary Clinton</td>\n",
       "      <td>NONE</td>\n",
       "      <td>3.  The tweet is not explicitly expressing opi...</td>\n",
       "      <td>neg</td>\n",
       "    </tr>\n",
       "    <tr>\n",
       "      <th>2601</th>\n",
       "      <td>Every good Christian wants to make sure the un...</td>\n",
       "      <td>Legalization of Abortion</td>\n",
       "      <td>NONE</td>\n",
       "      <td>2. The tweet does NOT expresses opinion about ...</td>\n",
       "      <td>neg</td>\n",
       "    </tr>\n",
       "    <tr>\n",
       "      <th>1996</th>\n",
       "      <td>Fox News predicting  way marriagegee we have t...</td>\n",
       "      <td>Hillary Clinton</td>\n",
       "      <td>NONE</td>\n",
       "      <td>2. The tweet does NOT expresses opinion about ...</td>\n",
       "      <td>neg</td>\n",
       "    </tr>\n",
       "    <tr>\n",
       "      <th>321</th>\n",
       "      <td>The world was made a better place today even i...</td>\n",
       "      <td>Atheism</td>\n",
       "      <td>NONE</td>\n",
       "      <td>2. The tweet does NOT expresses opinion about ...</td>\n",
       "      <td>pos</td>\n",
       "    </tr>\n",
       "    <tr>\n",
       "      <th>1371</th>\n",
       "      <td>Men want women to take their name in marriage ...</td>\n",
       "      <td>Feminist Movement</td>\n",
       "      <td>FAVOR</td>\n",
       "      <td>1.  The tweet explicitly expresses opinion abo...</td>\n",
       "      <td>neg</td>\n",
       "    </tr>\n",
       "  </tbody>\n",
       "</table>\n",
       "</div>"
      ],
      "text/plain": [
       "                                                  Tweet  \\\n",
       "1727  Bluesaloon Women are not a demographic we are ...   \n",
       "2601  Every good Christian wants to make sure the un...   \n",
       "1996  Fox News predicting  way marriagegee we have t...   \n",
       "321   The world was made a better place today even i...   \n",
       "1371  Men want women to take their name in marriage ...   \n",
       "\n",
       "                        Target Stance  \\\n",
       "1727           Hillary Clinton   NONE   \n",
       "2601  Legalization of Abortion   NONE   \n",
       "1996           Hillary Clinton   NONE   \n",
       "321                    Atheism   NONE   \n",
       "1371         Feminist Movement  FAVOR   \n",
       "\n",
       "                                        Opinion Towards Sentiment  \n",
       "1727  3.  The tweet is not explicitly expressing opi...       neg  \n",
       "2601  2. The tweet does NOT expresses opinion about ...       neg  \n",
       "1996  2. The tweet does NOT expresses opinion about ...       neg  \n",
       "321   2. The tweet does NOT expresses opinion about ...       pos  \n",
       "1371  1.  The tweet explicitly expresses opinion abo...       neg  "
      ]
     },
     "execution_count": 20,
     "metadata": {},
     "output_type": "execute_result"
    }
   ],
   "source": [
    "# Let's take a look at the updated text\n",
    "training_data['Tweet'] = training_data['Tweet'].apply(round2)\n",
    "training_data.head(5)"
   ]
  },
  {
   "cell_type": "markdown",
   "metadata": {},
   "source": [
    "## Data Engineering"
   ]
  },
  {
   "cell_type": "markdown",
   "metadata": {},
   "source": [
    "Categorical to numerical"
   ]
  },
  {
   "cell_type": "code",
   "execution_count": 21,
   "metadata": {},
   "outputs": [
    {
     "data": {
      "text/html": [
       "<div>\n",
       "<style scoped>\n",
       "    .dataframe tbody tr th:only-of-type {\n",
       "        vertical-align: middle;\n",
       "    }\n",
       "\n",
       "    .dataframe tbody tr th {\n",
       "        vertical-align: top;\n",
       "    }\n",
       "\n",
       "    .dataframe thead th {\n",
       "        text-align: right;\n",
       "    }\n",
       "</style>\n",
       "<table border=\"1\" class=\"dataframe\">\n",
       "  <thead>\n",
       "    <tr style=\"text-align: right;\">\n",
       "      <th></th>\n",
       "      <th>Tweet</th>\n",
       "      <th>Target</th>\n",
       "      <th>Stance</th>\n",
       "      <th>Opinion Towards</th>\n",
       "      <th>Sentiment</th>\n",
       "    </tr>\n",
       "  </thead>\n",
       "  <tbody>\n",
       "    <tr>\n",
       "      <th>1727</th>\n",
       "      <td>Bluesaloon Women are not a demographic we are ...</td>\n",
       "      <td>0</td>\n",
       "      <td>NONE</td>\n",
       "      <td>3.  The tweet is not explicitly expressing opi...</td>\n",
       "      <td>neg</td>\n",
       "    </tr>\n",
       "    <tr>\n",
       "      <th>2601</th>\n",
       "      <td>Every good Christian wants to make sure the un...</td>\n",
       "      <td>1</td>\n",
       "      <td>NONE</td>\n",
       "      <td>2. The tweet does NOT expresses opinion about ...</td>\n",
       "      <td>neg</td>\n",
       "    </tr>\n",
       "    <tr>\n",
       "      <th>1996</th>\n",
       "      <td>Fox News predicting  way marriagegee we have t...</td>\n",
       "      <td>0</td>\n",
       "      <td>NONE</td>\n",
       "      <td>2. The tweet does NOT expresses opinion about ...</td>\n",
       "      <td>neg</td>\n",
       "    </tr>\n",
       "    <tr>\n",
       "      <th>321</th>\n",
       "      <td>The world was made a better place today even i...</td>\n",
       "      <td>2</td>\n",
       "      <td>NONE</td>\n",
       "      <td>2. The tweet does NOT expresses opinion about ...</td>\n",
       "      <td>pos</td>\n",
       "    </tr>\n",
       "    <tr>\n",
       "      <th>1371</th>\n",
       "      <td>Men want women to take their name in marriage ...</td>\n",
       "      <td>4</td>\n",
       "      <td>FAVOR</td>\n",
       "      <td>1.  The tweet explicitly expresses opinion abo...</td>\n",
       "      <td>neg</td>\n",
       "    </tr>\n",
       "  </tbody>\n",
       "</table>\n",
       "</div>"
      ],
      "text/plain": [
       "                                                  Tweet  Target Stance  \\\n",
       "1727  Bluesaloon Women are not a demographic we are ...       0   NONE   \n",
       "2601  Every good Christian wants to make sure the un...       1   NONE   \n",
       "1996  Fox News predicting  way marriagegee we have t...       0   NONE   \n",
       "321   The world was made a better place today even i...       2   NONE   \n",
       "1371  Men want women to take their name in marriage ...       4  FAVOR   \n",
       "\n",
       "                                        Opinion Towards Sentiment  \n",
       "1727  3.  The tweet is not explicitly expressing opi...       neg  \n",
       "2601  2. The tweet does NOT expresses opinion about ...       neg  \n",
       "1996  2. The tweet does NOT expresses opinion about ...       neg  \n",
       "321   2. The tweet does NOT expresses opinion about ...       pos  \n",
       "1371  1.  The tweet explicitly expresses opinion abo...       neg  "
      ]
     },
     "execution_count": 21,
     "metadata": {},
     "output_type": "execute_result"
    }
   ],
   "source": [
    "encode = {\n",
    "    \"Hillary Clinton\" : 0,\n",
    "    \"Legalization of Abortion\"  : 1,       \n",
    "    \"Atheism\" : 2,    \n",
    "    \"Climate Change is a Real Concern\" : 3,     \n",
    "    \"Feminist Movement\"  : 4    \n",
    "        \n",
    "    \n",
    "}\n",
    "\n",
    "training_data[\"Target\"] = training_data[\"Target\"].apply(lambda x: encode[x])\n",
    "training_data.head(5)"
   ]
  },
  {
   "cell_type": "code",
   "execution_count": 22,
   "metadata": {},
   "outputs": [
    {
     "data": {
      "text/plain": [
       "array(['neg', 'pos', 'other'], dtype=object)"
      ]
     },
     "execution_count": 22,
     "metadata": {},
     "output_type": "execute_result"
    }
   ],
   "source": [
    "training_data[\"Sentiment\"].unique()"
   ]
  },
  {
   "cell_type": "code",
   "execution_count": 23,
   "metadata": {},
   "outputs": [
    {
     "data": {
      "text/plain": [
       "array(['NONE', 'FAVOR', 'AGAINST'], dtype=object)"
      ]
     },
     "execution_count": 23,
     "metadata": {},
     "output_type": "execute_result"
    }
   ],
   "source": [
    "training_data[\"Stance\"].unique()"
   ]
  },
  {
   "cell_type": "code",
   "execution_count": 24,
   "metadata": {},
   "outputs": [
    {
     "name": "stderr",
     "output_type": "stream",
     "text": [
      "[nltk_data] Downloading package punkt to /home/ec2-user/nltk_data...\n",
      "[nltk_data]   Package punkt is already up-to-date!\n"
     ]
    },
    {
     "data": {
      "text/html": [
       "<div>\n",
       "<style scoped>\n",
       "    .dataframe tbody tr th:only-of-type {\n",
       "        vertical-align: middle;\n",
       "    }\n",
       "\n",
       "    .dataframe tbody tr th {\n",
       "        vertical-align: top;\n",
       "    }\n",
       "\n",
       "    .dataframe thead th {\n",
       "        text-align: right;\n",
       "    }\n",
       "</style>\n",
       "<table border=\"1\" class=\"dataframe\">\n",
       "  <thead>\n",
       "    <tr style=\"text-align: right;\">\n",
       "      <th></th>\n",
       "      <th>Tweet</th>\n",
       "      <th>Target</th>\n",
       "      <th>Stance</th>\n",
       "      <th>Opinion Towards</th>\n",
       "      <th>Sentiment</th>\n",
       "    </tr>\n",
       "  </thead>\n",
       "  <tbody>\n",
       "    <tr>\n",
       "      <th>1727</th>\n",
       "      <td>Bluesaloon Women are not a demographic we are ...</td>\n",
       "      <td>0</td>\n",
       "      <td>NONE</td>\n",
       "      <td>3.  The tweet is not explicitly expressing opi...</td>\n",
       "      <td>neg</td>\n",
       "    </tr>\n",
       "    <tr>\n",
       "      <th>2601</th>\n",
       "      <td>Every good Christian wants to make sure the un...</td>\n",
       "      <td>1</td>\n",
       "      <td>NONE</td>\n",
       "      <td>2. The tweet does NOT expresses opinion about ...</td>\n",
       "      <td>neg</td>\n",
       "    </tr>\n",
       "    <tr>\n",
       "      <th>1996</th>\n",
       "      <td>Fox News predicting  way marriagegee we have t...</td>\n",
       "      <td>0</td>\n",
       "      <td>NONE</td>\n",
       "      <td>2. The tweet does NOT expresses opinion about ...</td>\n",
       "      <td>neg</td>\n",
       "    </tr>\n",
       "    <tr>\n",
       "      <th>321</th>\n",
       "      <td>The world was made a better place today even i...</td>\n",
       "      <td>2</td>\n",
       "      <td>NONE</td>\n",
       "      <td>2. The tweet does NOT expresses opinion about ...</td>\n",
       "      <td>pos</td>\n",
       "    </tr>\n",
       "    <tr>\n",
       "      <th>1371</th>\n",
       "      <td>Men want women to take their name in marriage ...</td>\n",
       "      <td>4</td>\n",
       "      <td>FAVOR</td>\n",
       "      <td>1.  The tweet explicitly expresses opinion abo...</td>\n",
       "      <td>neg</td>\n",
       "    </tr>\n",
       "  </tbody>\n",
       "</table>\n",
       "</div>"
      ],
      "text/plain": [
       "                                                  Tweet  Target Stance  \\\n",
       "1727  Bluesaloon Women are not a demographic we are ...       0   NONE   \n",
       "2601  Every good Christian wants to make sure the un...       1   NONE   \n",
       "1996  Fox News predicting  way marriagegee we have t...       0   NONE   \n",
       "321   The world was made a better place today even i...       2   NONE   \n",
       "1371  Men want women to take their name in marriage ...       4  FAVOR   \n",
       "\n",
       "                                        Opinion Towards Sentiment  \n",
       "1727  3.  The tweet is not explicitly expressing opi...       neg  \n",
       "2601  2. The tweet does NOT expresses opinion about ...       neg  \n",
       "1996  2. The tweet does NOT expresses opinion about ...       neg  \n",
       "321   2. The tweet does NOT expresses opinion about ...       pos  \n",
       "1371  1.  The tweet explicitly expresses opinion abo...       neg  "
      ]
     },
     "execution_count": 24,
     "metadata": {},
     "output_type": "execute_result"
    }
   ],
   "source": [
    "import string\n",
    "import nltk\n",
    "nltk.download('punkt')\n",
    "from nltk.tokenize import word_tokenize\n",
    "from nltk.corpus import stopwords\n",
    "\n",
    "happy_lines = list()\n",
    "lines = training_data[\"Tweet\"].values.tolist()\n",
    "def remove_punct(lines):\n",
    "    lines  = \"\".join([char for char in lines if char not in string.punctuation])\n",
    "    lines = re.sub('[0-9]+', '', lines)\n",
    "    return lines\n",
    "\n",
    "training_data['Tweet'] = training_data['Tweet'].apply(lambda x: remove_punct(x))\n",
    "training_data.head(5)"
   ]
  },
  {
   "cell_type": "code",
   "execution_count": 25,
   "metadata": {},
   "outputs": [
    {
     "data": {
      "text/html": [
       "<div>\n",
       "<style scoped>\n",
       "    .dataframe tbody tr th:only-of-type {\n",
       "        vertical-align: middle;\n",
       "    }\n",
       "\n",
       "    .dataframe tbody tr th {\n",
       "        vertical-align: top;\n",
       "    }\n",
       "\n",
       "    .dataframe thead th {\n",
       "        text-align: right;\n",
       "    }\n",
       "</style>\n",
       "<table border=\"1\" class=\"dataframe\">\n",
       "  <thead>\n",
       "    <tr style=\"text-align: right;\">\n",
       "      <th></th>\n",
       "      <th>Tweet</th>\n",
       "      <th>Target</th>\n",
       "      <th>Stance</th>\n",
       "      <th>Opinion Towards</th>\n",
       "      <th>Sentiment</th>\n",
       "    </tr>\n",
       "  </thead>\n",
       "  <tbody>\n",
       "    <tr>\n",
       "      <th>1727</th>\n",
       "      <td>[bluesaloon, women, are, not, a, demographic, ...</td>\n",
       "      <td>0</td>\n",
       "      <td>NONE</td>\n",
       "      <td>3.  The tweet is not explicitly expressing opi...</td>\n",
       "      <td>neg</td>\n",
       "    </tr>\n",
       "    <tr>\n",
       "      <th>2601</th>\n",
       "      <td>[every, good, christian, wants, to, make, sure...</td>\n",
       "      <td>1</td>\n",
       "      <td>NONE</td>\n",
       "      <td>2. The tweet does NOT expresses opinion about ...</td>\n",
       "      <td>neg</td>\n",
       "    </tr>\n",
       "    <tr>\n",
       "      <th>1996</th>\n",
       "      <td>[fox, news, predicting, way, marriagegee, we, ...</td>\n",
       "      <td>0</td>\n",
       "      <td>NONE</td>\n",
       "      <td>2. The tweet does NOT expresses opinion about ...</td>\n",
       "      <td>neg</td>\n",
       "    </tr>\n",
       "    <tr>\n",
       "      <th>321</th>\n",
       "      <td>[the, world, was, made, a, better, place, toda...</td>\n",
       "      <td>2</td>\n",
       "      <td>NONE</td>\n",
       "      <td>2. The tweet does NOT expresses opinion about ...</td>\n",
       "      <td>pos</td>\n",
       "    </tr>\n",
       "    <tr>\n",
       "      <th>1371</th>\n",
       "      <td>[men, want, women, to, take, their, name, in, ...</td>\n",
       "      <td>4</td>\n",
       "      <td>FAVOR</td>\n",
       "      <td>1.  The tweet explicitly expresses opinion abo...</td>\n",
       "      <td>neg</td>\n",
       "    </tr>\n",
       "  </tbody>\n",
       "</table>\n",
       "</div>"
      ],
      "text/plain": [
       "                                                  Tweet  Target Stance  \\\n",
       "1727  [bluesaloon, women, are, not, a, demographic, ...       0   NONE   \n",
       "2601  [every, good, christian, wants, to, make, sure...       1   NONE   \n",
       "1996  [fox, news, predicting, way, marriagegee, we, ...       0   NONE   \n",
       "321   [the, world, was, made, a, better, place, toda...       2   NONE   \n",
       "1371  [men, want, women, to, take, their, name, in, ...       4  FAVOR   \n",
       "\n",
       "                                        Opinion Towards Sentiment  \n",
       "1727  3.  The tweet is not explicitly expressing opi...       neg  \n",
       "2601  2. The tweet does NOT expresses opinion about ...       neg  \n",
       "1996  2. The tweet does NOT expresses opinion about ...       neg  \n",
       "321   2. The tweet does NOT expresses opinion about ...       pos  \n",
       "1371  1.  The tweet explicitly expresses opinion abo...       neg  "
      ]
     },
     "execution_count": 25,
     "metadata": {},
     "output_type": "execute_result"
    }
   ],
   "source": [
    "def tokenization(lines):\n",
    "    lines = re.split('\\W+', lines)\n",
    "    return lines\n",
    "\n",
    "training_data['Tweet'] = training_data['Tweet'].apply(lambda x: tokenization(x.lower()))\n",
    "training_data.head()"
   ]
  },
  {
   "cell_type": "code",
   "execution_count": 26,
   "metadata": {},
   "outputs": [],
   "source": [
    "import nltk \n",
    "from sklearn.feature_extraction.text import CountVectorizer"
   ]
  },
  {
   "cell_type": "code",
   "execution_count": 27,
   "metadata": {},
   "outputs": [
    {
     "name": "stderr",
     "output_type": "stream",
     "text": [
      "[nltk_data] Downloading package stopwords to\n",
      "[nltk_data]     /home/ec2-user/nltk_data...\n",
      "[nltk_data]   Package stopwords is already up-to-date!\n"
     ]
    },
    {
     "data": {
      "text/plain": [
       "True"
      ]
     },
     "execution_count": 27,
     "metadata": {},
     "output_type": "execute_result"
    }
   ],
   "source": [
    "nltk.download('stopwords')"
   ]
  },
  {
   "cell_type": "code",
   "execution_count": 28,
   "metadata": {},
   "outputs": [],
   "source": [
    "stopword = nltk.corpus.stopwords.words('english')"
   ]
  },
  {
   "cell_type": "code",
   "execution_count": 29,
   "metadata": {},
   "outputs": [
    {
     "data": {
      "text/html": [
       "<div>\n",
       "<style scoped>\n",
       "    .dataframe tbody tr th:only-of-type {\n",
       "        vertical-align: middle;\n",
       "    }\n",
       "\n",
       "    .dataframe tbody tr th {\n",
       "        vertical-align: top;\n",
       "    }\n",
       "\n",
       "    .dataframe thead th {\n",
       "        text-align: right;\n",
       "    }\n",
       "</style>\n",
       "<table border=\"1\" class=\"dataframe\">\n",
       "  <thead>\n",
       "    <tr style=\"text-align: right;\">\n",
       "      <th></th>\n",
       "      <th>Tweet</th>\n",
       "      <th>Target</th>\n",
       "      <th>Stance</th>\n",
       "      <th>Opinion Towards</th>\n",
       "      <th>Sentiment</th>\n",
       "    </tr>\n",
       "  </thead>\n",
       "  <tbody>\n",
       "    <tr>\n",
       "      <th>1727</th>\n",
       "      <td>[bluesaloon, women, demographic, least, nation...</td>\n",
       "      <td>0</td>\n",
       "      <td>NONE</td>\n",
       "      <td>3.  The tweet is not explicitly expressing opi...</td>\n",
       "      <td>neg</td>\n",
       "    </tr>\n",
       "    <tr>\n",
       "      <th>2601</th>\n",
       "      <td>[every, good, christian, wants, make, sure, un...</td>\n",
       "      <td>1</td>\n",
       "      <td>NONE</td>\n",
       "      <td>2. The tweet does NOT expresses opinion about ...</td>\n",
       "      <td>neg</td>\n",
       "    </tr>\n",
       "    <tr>\n",
       "      <th>1996</th>\n",
       "      <td>[fox, news, predicting, way, marriagegee, morm...</td>\n",
       "      <td>0</td>\n",
       "      <td>NONE</td>\n",
       "      <td>2. The tweet does NOT expresses opinion about ...</td>\n",
       "      <td>neg</td>\n",
       "    </tr>\n",
       "    <tr>\n",
       "      <th>321</th>\n",
       "      <td>[world, made, better, place, today, even, smal...</td>\n",
       "      <td>2</td>\n",
       "      <td>NONE</td>\n",
       "      <td>2. The tweet does NOT expresses opinion about ...</td>\n",
       "      <td>pos</td>\n",
       "    </tr>\n",
       "    <tr>\n",
       "      <th>1371</th>\n",
       "      <td>[men, want, women, take, name, marriage, male,...</td>\n",
       "      <td>4</td>\n",
       "      <td>FAVOR</td>\n",
       "      <td>1.  The tweet explicitly expresses opinion abo...</td>\n",
       "      <td>neg</td>\n",
       "    </tr>\n",
       "  </tbody>\n",
       "</table>\n",
       "</div>"
      ],
      "text/plain": [
       "                                                  Tweet  Target Stance  \\\n",
       "1727  [bluesaloon, women, demographic, least, nation...       0   NONE   \n",
       "2601  [every, good, christian, wants, make, sure, un...       1   NONE   \n",
       "1996  [fox, news, predicting, way, marriagegee, morm...       0   NONE   \n",
       "321   [world, made, better, place, today, even, smal...       2   NONE   \n",
       "1371  [men, want, women, take, name, marriage, male,...       4  FAVOR   \n",
       "\n",
       "                                        Opinion Towards Sentiment  \n",
       "1727  3.  The tweet is not explicitly expressing opi...       neg  \n",
       "2601  2. The tweet does NOT expresses opinion about ...       neg  \n",
       "1996  2. The tweet does NOT expresses opinion about ...       neg  \n",
       "321   2. The tweet does NOT expresses opinion about ...       pos  \n",
       "1371  1.  The tweet explicitly expresses opinion abo...       neg  "
      ]
     },
     "execution_count": 29,
     "metadata": {},
     "output_type": "execute_result"
    }
   ],
   "source": [
    "def remove_stopwords(lines):\n",
    "    lines = [word for word in lines if word not in stopword]\n",
    "    return lines\n",
    "    \n",
    "training_data['Tweet'] = training_data['Tweet'].apply(lambda x: remove_stopwords(x))\n",
    "training_data.head(5)"
   ]
  },
  {
   "cell_type": "code",
   "execution_count": 30,
   "metadata": {},
   "outputs": [
    {
     "name": "stderr",
     "output_type": "stream",
     "text": [
      "[nltk_data] Downloading package wordnet to /home/ec2-user/nltk_data...\n",
      "[nltk_data]   Package wordnet is already up-to-date!\n"
     ]
    },
    {
     "data": {
      "text/plain": [
       "True"
      ]
     },
     "execution_count": 30,
     "metadata": {},
     "output_type": "execute_result"
    }
   ],
   "source": [
    "nltk.download('wordnet')"
   ]
  },
  {
   "cell_type": "code",
   "execution_count": 31,
   "metadata": {},
   "outputs": [
    {
     "data": {
      "text/html": [
       "<div>\n",
       "<style scoped>\n",
       "    .dataframe tbody tr th:only-of-type {\n",
       "        vertical-align: middle;\n",
       "    }\n",
       "\n",
       "    .dataframe tbody tr th {\n",
       "        vertical-align: top;\n",
       "    }\n",
       "\n",
       "    .dataframe thead th {\n",
       "        text-align: right;\n",
       "    }\n",
       "</style>\n",
       "<table border=\"1\" class=\"dataframe\">\n",
       "  <thead>\n",
       "    <tr style=\"text-align: right;\">\n",
       "      <th></th>\n",
       "      <th>Tweet</th>\n",
       "      <th>Target</th>\n",
       "      <th>Stance</th>\n",
       "      <th>Opinion Towards</th>\n",
       "      <th>Sentiment</th>\n",
       "    </tr>\n",
       "  </thead>\n",
       "  <tbody>\n",
       "    <tr>\n",
       "      <th>1727</th>\n",
       "      <td>[bluesaloon, woman, demographic, least, nation...</td>\n",
       "      <td>0</td>\n",
       "      <td>NONE</td>\n",
       "      <td>3.  The tweet is not explicitly expressing opi...</td>\n",
       "      <td>neg</td>\n",
       "    </tr>\n",
       "    <tr>\n",
       "      <th>2601</th>\n",
       "      <td>[every, good, christian, want, make, sure, unw...</td>\n",
       "      <td>1</td>\n",
       "      <td>NONE</td>\n",
       "      <td>2. The tweet does NOT expresses opinion about ...</td>\n",
       "      <td>neg</td>\n",
       "    </tr>\n",
       "    <tr>\n",
       "      <th>1996</th>\n",
       "      <td>[fox, news, predicting, way, marriagegee, morm...</td>\n",
       "      <td>0</td>\n",
       "      <td>NONE</td>\n",
       "      <td>2. The tweet does NOT expresses opinion about ...</td>\n",
       "      <td>neg</td>\n",
       "    </tr>\n",
       "    <tr>\n",
       "      <th>321</th>\n",
       "      <td>[world, made, better, place, today, even, smal...</td>\n",
       "      <td>2</td>\n",
       "      <td>NONE</td>\n",
       "      <td>2. The tweet does NOT expresses opinion about ...</td>\n",
       "      <td>pos</td>\n",
       "    </tr>\n",
       "    <tr>\n",
       "      <th>1371</th>\n",
       "      <td>[men, want, woman, take, name, marriage, male,...</td>\n",
       "      <td>4</td>\n",
       "      <td>FAVOR</td>\n",
       "      <td>1.  The tweet explicitly expresses opinion abo...</td>\n",
       "      <td>neg</td>\n",
       "    </tr>\n",
       "  </tbody>\n",
       "</table>\n",
       "</div>"
      ],
      "text/plain": [
       "                                                  Tweet  Target Stance  \\\n",
       "1727  [bluesaloon, woman, demographic, least, nation...       0   NONE   \n",
       "2601  [every, good, christian, want, make, sure, unw...       1   NONE   \n",
       "1996  [fox, news, predicting, way, marriagegee, morm...       0   NONE   \n",
       "321   [world, made, better, place, today, even, smal...       2   NONE   \n",
       "1371  [men, want, woman, take, name, marriage, male,...       4  FAVOR   \n",
       "\n",
       "                                        Opinion Towards Sentiment  \n",
       "1727  3.  The tweet is not explicitly expressing opi...       neg  \n",
       "2601  2. The tweet does NOT expresses opinion about ...       neg  \n",
       "1996  2. The tweet does NOT expresses opinion about ...       neg  \n",
       "321   2. The tweet does NOT expresses opinion about ...       pos  \n",
       "1371  1.  The tweet explicitly expresses opinion abo...       neg  "
      ]
     },
     "execution_count": 31,
     "metadata": {},
     "output_type": "execute_result"
    }
   ],
   "source": [
    "wn = nltk.WordNetLemmatizer()\n",
    "\n",
    "def lemmatizer(lines):\n",
    "    lines = [wn.lemmatize(word) for word in lines]\n",
    "    return lines\n",
    "\n",
    "training_data['Tweet'] = training_data['Tweet'].apply(lambda x: lemmatizer(x))\n",
    "training_data.head()"
   ]
  },
  {
   "cell_type": "code",
   "execution_count": 32,
   "metadata": {},
   "outputs": [],
   "source": [
    "lines = training_data[\"Tweet\"].values.tolist()"
   ]
  },
  {
   "cell_type": "code",
   "execution_count": 33,
   "metadata": {},
   "outputs": [],
   "source": [
    "happy_lines = lines"
   ]
  },
  {
   "cell_type": "code",
   "execution_count": null,
   "metadata": {},
   "outputs": [],
   "source": []
  },
  {
   "cell_type": "code",
   "execution_count": 34,
   "metadata": {},
   "outputs": [
    {
     "name": "stdout",
     "output_type": "stream",
     "text": [
      "unique tokens - 6073\n",
      "vocab_size - 6074\n"
     ]
    }
   ],
   "source": [
    "from tensorflow.python.keras.preprocessing.text import Tokenizer\n",
    "from tensorflow.python.keras.preprocessing.sequence import pad_sequences\n",
    "\n",
    "validation_split = 0.20\n",
    "max_length = 55\n",
    "\n",
    "tokenizer_obj = Tokenizer()\n",
    "tokenizer_obj.fit_on_texts(happy_lines)\n",
    "sequences = tokenizer_obj.texts_to_sequences(happy_lines)\n",
    "\n",
    "word_index = tokenizer_obj.word_index\n",
    "print(\"unique tokens - \"+str(len(word_index)))\n",
    "vocab_size = len(tokenizer_obj.word_index) + 1\n",
    "print('vocab_size - '+str(vocab_size))\n",
    "\n",
    "lines_pad = pad_sequences(sequences, maxlen=max_length, padding='post')\n",
    "category =  training_data['Target'].values"
   ]
  },
  {
   "cell_type": "code",
   "execution_count": 35,
   "metadata": {},
   "outputs": [
    {
     "data": {
      "text/html": [
       "\n",
       "      <iframe id=\"tensorboard-frame-6440c84cf67ad714\" width=\"100%\" height=\"800\" frameborder=\"0\">\n",
       "      </iframe>\n",
       "      <script>\n",
       "        (function() {\n",
       "          const frame = document.getElementById(\"tensorboard-frame-6440c84cf67ad714\");\n",
       "          const url = new URL(\"/\", window.location);\n",
       "          url.port = 6007;\n",
       "          frame.src = url;\n",
       "        })();\n",
       "      </script>\n",
       "  "
      ],
      "text/plain": [
       "<IPython.core.display.HTML object>"
      ]
     },
     "metadata": {},
     "output_type": "display_data"
    }
   ],
   "source": [
    "logdir = pathlib.Path(tempfile.mkdtemp())/\"tensorboard_logs\"\n",
    "shutil.rmtree(logdir, ignore_errors=True)\n",
    "\n",
    "# Load the TensorBoard notebook extension\n",
    "%load_ext tensorboard\n",
    "\n",
    "# Open an embedded TensorBoard viewer\n",
    "%tensorboard --logdir {logdir}/models"
   ]
  },
  {
   "cell_type": "code",
   "execution_count": 36,
   "metadata": {},
   "outputs": [],
   "source": [
    "from itertools import cycle\n",
    "def plotter(history_hold, metric = 'binary_crossentropy', ylim=[0.0, 1.0]):\n",
    "  cycol = cycle('bgrcmk')\n",
    "  for name, item in history_hold.items():\n",
    "    y_train = item.history[metric]\n",
    "    y_val = item.history['val_' + metric]\n",
    "    x_train = np.arange(0,len(y_val))\n",
    "\n",
    "    c=next(cycol)\n",
    "\n",
    "    plt.plot(x_train, y_train, c+'-', label=name+'_train')\n",
    "    plt.plot(x_train, y_val, c+'--', label=name+'_val')\n",
    "\n",
    "  plt.legend()\n",
    "  plt.xlim([1, max(plt.xlim())])\n",
    "  plt.ylim(ylim)\n",
    "  plt.xlabel('Epoch')\n",
    "  plt.ylabel(metric)\n",
    "  plt.grid(True)"
   ]
  },
  {
   "cell_type": "code",
   "execution_count": 37,
   "metadata": {},
   "outputs": [],
   "source": [
    "indices = np.arange(lines_pad.shape[0])\n",
    "np.random.shuffle(indices)\n",
    "lines_pad = lines_pad[indices]\n",
    "category = category[indices]\n",
    "\n",
    "n_values = np.max(category) + 1\n",
    "Y = np.eye(n_values)[category]\n",
    "\n",
    "num_validation_samples = int(validation_split * lines_pad.shape[0])\n",
    "\n",
    "X_train_pad = lines_pad[:-num_validation_samples]\n",
    "y_train = Y[:-num_validation_samples]\n",
    "X_val_pad = lines_pad[-num_validation_samples:]\n",
    "y_val = Y[-num_validation_samples:]"
   ]
  },
  {
   "cell_type": "code",
   "execution_count": 38,
   "metadata": {},
   "outputs": [],
   "source": [
    "# Randomly sample some train data\n",
    "train_len = X_train_pad.shape[0]\n",
    "\n",
    "idx = np.random.randint(train_len, size=train_len//25)\n",
    "\n",
    "X_train_pad_sampled = X_train_pad[idx, :]\n",
    "y_train_sampled = y_train[idx]"
   ]
  },
  {
   "cell_type": "code",
   "execution_count": 39,
   "metadata": {},
   "outputs": [
    {
     "name": "stdout",
     "output_type": "stream",
     "text": [
      "Shape of X_train_pad: (1492, 55)\n",
      "Shape of y_train: (1492, 5)\n",
      "Shape of X_train_pad_sampled: (59, 55)\n",
      "Shape of y_train_sampled: (59, 5)\n",
      "Shape of X_test_pad: (372, 55)\n",
      "Shape of y_test: (372, 5)\n"
     ]
    }
   ],
   "source": [
    "print('Shape of X_train_pad:', X_train_pad.shape)\n",
    "print('Shape of y_train:', y_train.shape)\n",
    "\n",
    "print('Shape of X_train_pad_sampled:', X_train_pad_sampled.shape)\n",
    "print('Shape of y_train_sampled:', y_train_sampled.shape)\n",
    "\n",
    "print('Shape of X_test_pad:', X_val_pad.shape)\n",
    "print('Shape of y_test:', y_val.shape)"
   ]
  },
  {
   "cell_type": "code",
   "execution_count": null,
   "metadata": {},
   "outputs": [],
   "source": []
  },
  {
   "cell_type": "code",
   "execution_count": 40,
   "metadata": {},
   "outputs": [],
   "source": [
    "def get_callbacks(name):\n",
    "  return [\n",
    "    tf.keras.callbacks.TensorBoard(logdir/name, histogram_freq=1),\n",
    "  ]"
   ]
  },
  {
   "cell_type": "code",
   "execution_count": 41,
   "metadata": {},
   "outputs": [
    {
     "name": "stdout",
     "output_type": "stream",
     "text": [
      "Model: \"sequential\"\n",
      "_________________________________________________________________\n",
      "Layer (type)                 Output Shape              Param #   \n",
      "=================================================================\n",
      "embedding (Embedding)        (None, 55, 100)           607400    \n",
      "_________________________________________________________________\n",
      "lstm (LSTM)                  (None, 32)                17024     \n",
      "_________________________________________________________________\n",
      "dense (Dense)                (None, 5)                 165       \n",
      "=================================================================\n",
      "Total params: 624,589\n",
      "Trainable params: 624,589\n",
      "Non-trainable params: 0\n",
      "_________________________________________________________________\n",
      "None\n"
     ]
    }
   ],
   "source": [
    "\n",
    "from tensorflow.keras.layers import Dense, Embedding, GRU, LSTM, Bidirectional\n",
    "from tensorflow.keras.models import Sequential\n",
    "\n",
    "embedding_dim = 100\n",
    "\n",
    "embedding_layer = Embedding(len(word_index) + 1,\n",
    "                            embedding_dim,\n",
    "                            input_length=max_length,\n",
    "                            trainable=True)\n",
    "\n",
    "model_glove = Sequential()\n",
    "model_glove.add(embedding_layer)\n",
    "model_glove.add(LSTM(units=32,  dropout=0.2, recurrent_dropout=0.25))\n",
    "model_glove.add(Dense(5, activation='softmax'))\n",
    "\n",
    "model_glove.compile(loss='categorical_crossentropy', optimizer='adam', metrics=['categorical_accuracy'])\n",
    "\n",
    "print(model_glove.summary())"
   ]
  },
  {
   "cell_type": "code",
   "execution_count": 42,
   "metadata": {},
   "outputs": [],
   "source": [
    "EPOCH = 5"
   ]
  },
  {
   "cell_type": "code",
   "execution_count": 43,
   "metadata": {},
   "outputs": [
    {
     "name": "stdout",
     "output_type": "stream",
     "text": [
      "Train on 59 samples, validate on 372 samples\n",
      "Epoch 1/5\n",
      "59/59 [==============================] - 3s 58ms/sample - loss: 1.6165 - categorical_accuracy: 0.1356 - val_loss: 1.6175 - val_categorical_accuracy: 0.1210\n",
      "Epoch 2/5\n",
      "59/59 [==============================] - 0s 5ms/sample - loss: 1.6036 - categorical_accuracy: 0.2203 - val_loss: 1.6175 - val_categorical_accuracy: 0.2097\n",
      "Epoch 3/5\n",
      "59/59 [==============================] - 0s 4ms/sample - loss: 1.5865 - categorical_accuracy: 0.3390 - val_loss: 1.6202 - val_categorical_accuracy: 0.2097\n",
      "Epoch 4/5\n",
      "59/59 [==============================] - 0s 4ms/sample - loss: 1.5763 - categorical_accuracy: 0.3390 - val_loss: 1.6236 - val_categorical_accuracy: 0.2097\n",
      "Epoch 5/5\n",
      "59/59 [==============================] - 0s 4ms/sample - loss: 1.5754 - categorical_accuracy: 0.3390 - val_loss: 1.6284 - val_categorical_accuracy: 0.2097\n"
     ]
    }
   ],
   "source": [
    "\n",
    "m_histories = {}\n",
    "m_histories['no_TL'] = model_glove.fit(X_train_pad_sampled, y_train_sampled, batch_size=32, epochs=EPOCH, validation_data=(X_val_pad, y_val), callbacks=get_callbacks('models/no_TL'), verbose=1)"
   ]
  },
  {
   "cell_type": "code",
   "execution_count": 44,
   "metadata": {},
   "outputs": [
    {
     "data": {
      "image/png": "[encoded data removed]",
      "text/plain": [
       "<Figure size 864x864 with 1 Axes>"
      ]
     },
     "metadata": {
      "needs_background": "light"
     },
     "output_type": "display_data"
    }
   ],
   "source": [
    "plotter(m_histories, ylim=[0.0, 2.0], metric = 'loss')"
   ]
  },
  {
   "cell_type": "code",
   "execution_count": 45,
   "metadata": {},
   "outputs": [
    {
     "data": {
      "image/png": "[encoded data removed]",
      "text/plain": [
       "<Figure size 864x864 with 1 Axes>"
      ]
     },
     "metadata": {
      "needs_background": "light"
     },
     "output_type": "display_data"
    }
   ],
   "source": [
    "plotter(m_histories, ylim=[0.0, 1.1], metric = 'categorical_accuracy')"
   ]
  },
  {
   "cell_type": "code",
   "execution_count": 46,
   "metadata": {},
   "outputs": [
    {
     "ename": "FileNotFoundError",
     "evalue": "[Errno 2] No such file or directory: 'glove.twitter.27B.100d.txt'",
     "output_type": "error",
     "traceback": [
      "\u001b[0;31m---------------------------------------------------------------------------\u001b[0m",
      "\u001b[0;31mFileNotFoundError\u001b[0m                         Traceback (most recent call last)",
      "\u001b[0;32m<ipython-input-46-22bfce2feede>\u001b[0m in \u001b[0;36m<module>\u001b[0;34m\u001b[0m\n\u001b[0;32m----> 1\u001b[0;31m \u001b[0mfile\u001b[0m \u001b[0;34m=\u001b[0m \u001b[0mopen\u001b[0m\u001b[0;34m(\u001b[0m\u001b[0;34m'glove.twitter.27B.100d.txt'\u001b[0m\u001b[0;34m,\u001b[0m \u001b[0mencoding\u001b[0m\u001b[0;34m=\u001b[0m\u001b[0;34m'utf-8'\u001b[0m\u001b[0;34m)\u001b[0m\u001b[0;34m\u001b[0m\u001b[0;34m\u001b[0m\u001b[0m\n\u001b[0m\u001b[1;32m      2\u001b[0m \u001b[0;34m\u001b[0m\u001b[0m\n\u001b[1;32m      3\u001b[0m \u001b[0mglove_vectors\u001b[0m \u001b[0;34m=\u001b[0m \u001b[0mdict\u001b[0m\u001b[0;34m(\u001b[0m\u001b[0;34m)\u001b[0m\u001b[0;34m\u001b[0m\u001b[0;34m\u001b[0m\u001b[0m\n\u001b[1;32m      4\u001b[0m \u001b[0;32mfor\u001b[0m \u001b[0mline\u001b[0m \u001b[0;32min\u001b[0m \u001b[0mfile\u001b[0m\u001b[0;34m:\u001b[0m\u001b[0;34m\u001b[0m\u001b[0;34m\u001b[0m\u001b[0m\n\u001b[1;32m      5\u001b[0m   \u001b[0mvalues\u001b[0m \u001b[0;34m=\u001b[0m \u001b[0mline\u001b[0m\u001b[0;34m.\u001b[0m\u001b[0msplit\u001b[0m\u001b[0;34m(\u001b[0m\u001b[0;34m)\u001b[0m\u001b[0;34m\u001b[0m\u001b[0;34m\u001b[0m\u001b[0m\n",
      "\u001b[0;31mFileNotFoundError\u001b[0m: [Errno 2] No such file or directory: 'glove.twitter.27B.100d.txt'"
     ]
    }
   ],
   "source": [
    "file = open('glove.twitter.27B.100d.txt', encoding='utf-8')\n",
    "\n",
    "glove_vectors = dict()\n",
    "for line in file:\n",
    "  values = line.split()\n",
    "  word = values[0]\n",
    "  features = np.asarray(values[1:])\n",
    "  glove_vectors[word] = features\n",
    "\n",
    "file.close() "
   ]
  },
  {
   "cell_type": "code",
   "execution_count": null,
   "metadata": {},
   "outputs": [],
   "source": [
    "\n",
    "E_T = np.zeros((len(word_index) + 1, embedding_dim))\n",
    "for word, i in word_index.items():\n",
    "    embedding_vector = glove_vectors.get(word)\n",
    "    if embedding_vector is not None:\n",
    "        E_T[i] = embedding_vector"
   ]
  },
  {
   "cell_type": "code",
   "execution_count": null,
   "metadata": {},
   "outputs": [],
   "source": [
    "from tensorflow.keras.layers import Dense, Embedding, GRU, LSTM, Bidirectional\n",
    "from tensorflow.keras.models import Sequential\n",
    "\n",
    "embedding_layer_TL = Embedding(len(word_index) + 1,\n",
    "                            embedding_dim,\n",
    "                            weights=[E_T],\n",
    "                            input_length=max_length,\n",
    "                            trainable=False)\n",
    "\n",
    "model_glove = Sequential()\n",
    "model_glove.add(embedding_layer_TL)\n",
    "model_glove.add(LSTM(units=64,  dropout=0.5, recurrent_dropout=0.5))\n",
    "model_glove.add(Dense(5, activation='softmax'))\n",
    "\n",
    "model_glove.compile(loss='categorical_crossentropy', optimizer='adam', metrics=['categorical_accuracy'])\n",
    "\n",
    "print(model_glove.summary())"
   ]
  },
  {
   "cell_type": "code",
   "execution_count": null,
   "metadata": {},
   "outputs": [],
   "source": [
    "EPOCH = 100"
   ]
  },
  {
   "cell_type": "code",
   "execution_count": null,
   "metadata": {},
   "outputs": [],
   "source": [
    "m_histories['with_TL'] = model_glove.fit(X_train_pad, y_train, batch_size=32, epochs=EPOCH, validation_data=(X_val_pad, y_val), callbacks=get_callbacks('models/with_TL'), verbose=1)"
   ]
  },
  {
   "cell_type": "code",
   "execution_count": null,
   "metadata": {},
   "outputs": [],
   "source": [
    "plotter(m_histories, ylim=[0.0, 2], metric = 'loss')"
   ]
  },
  {
   "cell_type": "code",
   "execution_count": null,
   "metadata": {},
   "outputs": [],
   "source": [
    "plotter(m_histories, ylim=[0.0, 1.1], metric = 'categorical_accuracy')"
   ]
  }
 ],
 "metadata": {
  "kernelspec": {
   "display_name": "conda_amazonei_tensorflow2_p36",
   "language": "python",
   "name": "conda_amazonei_tensorflow2_p36"
  },
  "language_info": {
   "codemirror_mode": {
    "name": "ipython",
    "version": 3
   },
   "file_extension": ".py",
   "mimetype": "text/x-python",
   "name": "python",
   "nbconvert_exporter": "python",
   "pygments_lexer": "ipython3",
   "version": "3.6.10"
  }
 },
 "nbformat": 4,
 "nbformat_minor": 4
}
