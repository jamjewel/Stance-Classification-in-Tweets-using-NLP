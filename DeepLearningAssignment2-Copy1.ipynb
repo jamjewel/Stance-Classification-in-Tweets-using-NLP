{
 "cells": [
  {
   "cell_type": "markdown",
   "metadata": {},
   "source": [
    "# Stance Classification In Tweets"
   ]
  },
  {
   "cell_type": "code",
   "execution_count": 1,
   "metadata": {},
   "outputs": [
    {
     "name": "stderr",
     "output_type": "stream",
     "text": [
      "Using TensorFlow backend.\n"
     ]
    },
    {
     "data": {
      "text/plain": [
       "'2.0.2'"
      ]
     },
     "execution_count": 1,
     "metadata": {},
     "output_type": "execute_result"
    }
   ],
   "source": [
    "import tensorflow as tf\n",
    "AUTOTUNE = tf.data.experimental.AUTOTUNE\n",
    "import IPython.display as display\n",
    "from PIL import Image\n",
    "import keras\n",
    "import re\n",
    "from keras.models import Sequential\n",
    "from keras.layers import Dense, Dropout, Flatten\n",
    "from keras.layers import Conv2D, MaxPooling2D, Convolution2D\n",
    "from keras.utils import to_categorical\n",
    "from keras.preprocessing import image\n",
    "import numpy as np\n",
    "import pandas as pd\n",
    "import matplotlib.pyplot as plt\n",
    "from sklearn.model_selection import train_test_split\n",
    "from tqdm import tqdm\n",
    "from statsmodels.graphics.mosaicplot import mosaic\n",
    "tf.keras.optimizers.RMSprop\n",
    "get_ipython().run_line_magic('matplotlib', 'inline')\n",
    "import os\n",
    "tf.__version__"
   ]
  },
  {
   "cell_type": "markdown",
   "metadata": {},
   "source": [
    "## Upload and unzip data file"
   ]
  },
  {
   "cell_type": "code",
   "execution_count": 2,
   "metadata": {},
   "outputs": [],
   "source": [
    "import zipfile\n",
    "with zipfile.ZipFile('./StanceDataset.zip', 'r') as zip_ref:\n",
    " zip_ref.extractall('./')"
   ]
  },
  {
   "cell_type": "markdown",
   "metadata": {},
   "source": [
    "## Reading training data"
   ]
  },
  {
   "cell_type": "code",
   "execution_count": 3,
   "metadata": {},
   "outputs": [],
   "source": [
    "train = pd.read_csv('./StanceDataset/train.csv', index_col=None, header=0, engine='python' )"
   ]
  },
  {
   "cell_type": "markdown",
   "metadata": {},
   "source": [
    "## Understand Data and Preprocessing"
   ]
  },
  {
   "cell_type": "code",
   "execution_count": 4,
   "metadata": {},
   "outputs": [
    {
     "data": {
      "text/plain": [
       "(2914, 5)"
      ]
     },
     "execution_count": 4,
     "metadata": {},
     "output_type": "execute_result"
    }
   ],
   "source": [
    "train.shape"
   ]
  },
  {
   "cell_type": "markdown",
   "metadata": {},
   "source": [
    "## Checking shape of training data and creating a plot to analyse Bias in data"
   ]
  },
  {
   "cell_type": "code",
   "execution_count": 5,
   "metadata": {},
   "outputs": [],
   "source": [
    "#grouping\n",
    "shape_data_group_target= train.groupby([\"Target\"])\n",
    "shape_data_group_plot_target= shape_data_group_target.count()"
   ]
  },
  {
   "cell_type": "code",
   "execution_count": 6,
   "metadata": {},
   "outputs": [
    {
     "data": {
      "text/html": [
       "<div>\n",
       "<style scoped>\n",
       "    .dataframe tbody tr th:only-of-type {\n",
       "        vertical-align: middle;\n",
       "    }\n",
       "\n",
       "    .dataframe tbody tr th {\n",
       "        vertical-align: top;\n",
       "    }\n",
       "\n",
       "    .dataframe thead th {\n",
       "        text-align: right;\n",
       "    }\n",
       "</style>\n",
       "<table border=\"1\" class=\"dataframe\">\n",
       "  <thead>\n",
       "    <tr style=\"text-align: right;\">\n",
       "      <th></th>\n",
       "      <th>Tweet</th>\n",
       "      <th>Stance</th>\n",
       "      <th>Opinion Towards</th>\n",
       "      <th>Sentiment</th>\n",
       "    </tr>\n",
       "    <tr>\n",
       "      <th>Target</th>\n",
       "      <th></th>\n",
       "      <th></th>\n",
       "      <th></th>\n",
       "      <th></th>\n",
       "    </tr>\n",
       "  </thead>\n",
       "  <tbody>\n",
       "    <tr>\n",
       "      <th>Atheism</th>\n",
       "      <td>513</td>\n",
       "      <td>513</td>\n",
       "      <td>513</td>\n",
       "      <td>513</td>\n",
       "    </tr>\n",
       "    <tr>\n",
       "      <th>Climate Change is a Real Concern</th>\n",
       "      <td>395</td>\n",
       "      <td>395</td>\n",
       "      <td>395</td>\n",
       "      <td>395</td>\n",
       "    </tr>\n",
       "    <tr>\n",
       "      <th>Feminist Movement</th>\n",
       "      <td>664</td>\n",
       "      <td>664</td>\n",
       "      <td>664</td>\n",
       "      <td>664</td>\n",
       "    </tr>\n",
       "    <tr>\n",
       "      <th>Hillary Clinton</th>\n",
       "      <td>689</td>\n",
       "      <td>689</td>\n",
       "      <td>689</td>\n",
       "      <td>689</td>\n",
       "    </tr>\n",
       "    <tr>\n",
       "      <th>Legalization of Abortion</th>\n",
       "      <td>653</td>\n",
       "      <td>653</td>\n",
       "      <td>653</td>\n",
       "      <td>653</td>\n",
       "    </tr>\n",
       "  </tbody>\n",
       "</table>\n",
       "</div>"
      ],
      "text/plain": [
       "                                  Tweet  Stance  Opinion Towards  Sentiment\n",
       "Target                                                                     \n",
       "Atheism                             513     513              513        513\n",
       "Climate Change is a Real Concern    395     395              395        395\n",
       "Feminist Movement                   664     664              664        664\n",
       "Hillary Clinton                     689     689              689        689\n",
       "Legalization of Abortion            653     653              653        653"
      ]
     },
     "execution_count": 6,
     "metadata": {},
     "output_type": "execute_result"
    },
    {
     "data": {
      "image/png": "[encoded data removed]",
      "text/plain": [
       "<Figure size 432x288 with 1 Axes>"
      ]
     },
     "metadata": {
      "needs_background": "light"
     },
     "output_type": "display_data"
    }
   ],
   "source": [
    "#plotting bar chart\n",
    "shape_data_group_plot_target.plot(kind='bar',color=('darkred'))\n",
    "shape_data_group_target.count()"
   ]
  },
  {
   "cell_type": "code",
   "execution_count": 7,
   "metadata": {},
   "outputs": [
    {
     "data": {
      "text/html": [
       "<div>\n",
       "<style scoped>\n",
       "    .dataframe tbody tr th:only-of-type {\n",
       "        vertical-align: middle;\n",
       "    }\n",
       "\n",
       "    .dataframe tbody tr th {\n",
       "        vertical-align: top;\n",
       "    }\n",
       "\n",
       "    .dataframe thead th {\n",
       "        text-align: right;\n",
       "    }\n",
       "</style>\n",
       "<table border=\"1\" class=\"dataframe\">\n",
       "  <thead>\n",
       "    <tr style=\"text-align: right;\">\n",
       "      <th></th>\n",
       "      <th>Tweet</th>\n",
       "      <th>Target</th>\n",
       "      <th>Opinion Towards</th>\n",
       "      <th>Sentiment</th>\n",
       "    </tr>\n",
       "    <tr>\n",
       "      <th>Stance</th>\n",
       "      <th></th>\n",
       "      <th></th>\n",
       "      <th></th>\n",
       "      <th></th>\n",
       "    </tr>\n",
       "  </thead>\n",
       "  <tbody>\n",
       "    <tr>\n",
       "      <th>AGAINST</th>\n",
       "      <td>1395</td>\n",
       "      <td>1395</td>\n",
       "      <td>1395</td>\n",
       "      <td>1395</td>\n",
       "    </tr>\n",
       "    <tr>\n",
       "      <th>FAVOR</th>\n",
       "      <td>753</td>\n",
       "      <td>753</td>\n",
       "      <td>753</td>\n",
       "      <td>753</td>\n",
       "    </tr>\n",
       "    <tr>\n",
       "      <th>NONE</th>\n",
       "      <td>766</td>\n",
       "      <td>766</td>\n",
       "      <td>766</td>\n",
       "      <td>766</td>\n",
       "    </tr>\n",
       "  </tbody>\n",
       "</table>\n",
       "</div>"
      ],
      "text/plain": [
       "         Tweet  Target  Opinion Towards  Sentiment\n",
       "Stance                                            \n",
       "AGAINST   1395    1395             1395       1395\n",
       "FAVOR      753     753              753        753\n",
       "NONE       766     766              766        766"
      ]
     },
     "execution_count": 7,
     "metadata": {},
     "output_type": "execute_result"
    },
    {
     "data": {
      "image/png": "[encoded data removed]",
      "text/plain": [
       "<Figure size 432x288 with 1 Axes>"
      ]
     },
     "metadata": {
      "needs_background": "light"
     },
     "output_type": "display_data"
    }
   ],
   "source": [
    "#grouping\n",
    "shape_data_group_stance= train.groupby([\"Stance\"])\n",
    "shape_data_group_plot_stance= shape_data_group_stance.count()\n",
    "#plotting bar chart\n",
    "shape_data_group_plot_stance.plot('Target',kind='bar',color=('darkgreen'))\n",
    "shape_data_group_stance.count()"
   ]
  },
  {
   "cell_type": "code",
   "execution_count": 8,
   "metadata": {},
   "outputs": [
    {
     "data": {
      "image/png": "[encoded data removed]",
      "text/plain": [
       "<Figure size 864x864 with 3 Axes>"
      ]
     },
     "metadata": {
      "needs_background": "light"
     },
     "output_type": "display_data"
    }
   ],
   "source": [
    "df1 = pd.DataFrame(train,columns=['Target','Stance'])\n",
    "\n",
    "from statsmodels.graphics.mosaicplot import mosaic\n",
    "plt.rcParams['font.size'] = 10.0\n",
    "plt.rcParams[\"figure.figsize\"]=(12.0, 12.0)\n",
    "mosaic(df1, ['Target', 'Stance'],gap=0.01,title='Stance Distribution for each categorical Target');\n"
   ]
  },
  {
   "cell_type": "markdown",
   "metadata": {},
   "source": [
    "## Splitting Data into TRAIN, TEST AND VALIDATION"
   ]
  },
  {
   "cell_type": "code",
   "execution_count": 9,
   "metadata": {},
   "outputs": [
    {
     "name": "stdout",
     "output_type": "stream",
     "text": [
      "Train size: 1864, Test size: 467\n"
     ]
    }
   ],
   "source": [
    "\n",
    "from sklearn.model_selection import train_test_split\n",
    "\n",
    "train_data, test_data = train_test_split(train,test_size = 0.2)\n",
    "training_data, validation_data = train_test_split(train_data,test_size = 0.2)\n",
    "\n",
    "# Generate two data frames for training and validation #\n",
    "print('Train size: {}, Test size: {}'.format(training_data.shape[0], validation_data.shape[0] ) ) \n",
    "N_train = training_data.shape[0]\n",
    "N_val = validation_data.shape[0]"
   ]
  },
  {
   "cell_type": "code",
   "execution_count": 10,
   "metadata": {},
   "outputs": [
    {
     "data": {
      "text/plain": [
       "(1864, 5)"
      ]
     },
     "execution_count": 10,
     "metadata": {},
     "output_type": "execute_result"
    }
   ],
   "source": [
    "training_data.shape"
   ]
  },
  {
   "cell_type": "code",
   "execution_count": 11,
   "metadata": {},
   "outputs": [
    {
     "data": {
      "text/plain": [
       "(583, 5)"
      ]
     },
     "execution_count": 11,
     "metadata": {},
     "output_type": "execute_result"
    }
   ],
   "source": [
    "test_data.shape"
   ]
  },
  {
   "cell_type": "code",
   "execution_count": 12,
   "metadata": {},
   "outputs": [
    {
     "data": {
      "text/plain": [
       "(467, 5)"
      ]
     },
     "execution_count": 12,
     "metadata": {},
     "output_type": "execute_result"
    }
   ],
   "source": [
    "validation_data.shape"
   ]
  },
  {
   "cell_type": "code",
   "execution_count": 13,
   "metadata": {},
   "outputs": [
    {
     "data": {
      "text/html": [
       "<div>\n",
       "<style scoped>\n",
       "    .dataframe tbody tr th:only-of-type {\n",
       "        vertical-align: middle;\n",
       "    }\n",
       "\n",
       "    .dataframe tbody tr th {\n",
       "        vertical-align: top;\n",
       "    }\n",
       "\n",
       "    .dataframe thead th {\n",
       "        text-align: right;\n",
       "    }\n",
       "</style>\n",
       "<table border=\"1\" class=\"dataframe\">\n",
       "  <thead>\n",
       "    <tr style=\"text-align: right;\">\n",
       "      <th></th>\n",
       "      <th>Tweet</th>\n",
       "      <th>Target</th>\n",
       "      <th>Stance</th>\n",
       "      <th>Opinion Towards</th>\n",
       "      <th>Sentiment</th>\n",
       "    </tr>\n",
       "  </thead>\n",
       "  <tbody>\n",
       "    <tr>\n",
       "      <th>1904</th>\n",
       "      <td>@HillaryClinton said #AllLivesMatter just like...</td>\n",
       "      <td>Hillary Clinton</td>\n",
       "      <td>AGAINST</td>\n",
       "      <td>1.  The tweet explicitly expresses opinion abo...</td>\n",
       "      <td>neg</td>\n",
       "    </tr>\n",
       "    <tr>\n",
       "      <th>888</th>\n",
       "      <td>Clean technology, this is your moment #innovat...</td>\n",
       "      <td>Climate Change is a Real Concern</td>\n",
       "      <td>FAVOR</td>\n",
       "      <td>1.  The tweet explicitly expresses opinion abo...</td>\n",
       "      <td>pos</td>\n",
       "    </tr>\n",
       "    <tr>\n",
       "      <th>2194</th>\n",
       "      <td>@maddow I love Bern, but it's not his time! #S...</td>\n",
       "      <td>Hillary Clinton</td>\n",
       "      <td>AGAINST</td>\n",
       "      <td>2. The tweet does NOT expresses opinion about ...</td>\n",
       "      <td>other</td>\n",
       "    </tr>\n",
       "    <tr>\n",
       "      <th>1892</th>\n",
       "      <td>America needs a champion!-H  No thanks,@Hillar...</td>\n",
       "      <td>Hillary Clinton</td>\n",
       "      <td>AGAINST</td>\n",
       "      <td>1.  The tweet explicitly expresses opinion abo...</td>\n",
       "      <td>neg</td>\n",
       "    </tr>\n",
       "    <tr>\n",
       "      <th>2120</th>\n",
       "      <td>@HlLLARY @ToniforAsm Hillary for Prez = Obama'...</td>\n",
       "      <td>Hillary Clinton</td>\n",
       "      <td>AGAINST</td>\n",
       "      <td>2. The tweet does NOT expresses opinion about ...</td>\n",
       "      <td>neg</td>\n",
       "    </tr>\n",
       "    <tr>\n",
       "      <th>...</th>\n",
       "      <td>...</td>\n",
       "      <td>...</td>\n",
       "      <td>...</td>\n",
       "      <td>...</td>\n",
       "      <td>...</td>\n",
       "    </tr>\n",
       "    <tr>\n",
       "      <th>1816</th>\n",
       "      <td>@HillaryClinton Says the millionaire politicia...</td>\n",
       "      <td>Hillary Clinton</td>\n",
       "      <td>AGAINST</td>\n",
       "      <td>1.  The tweet explicitly expresses opinion abo...</td>\n",
       "      <td>neg</td>\n",
       "    </tr>\n",
       "    <tr>\n",
       "      <th>1660</th>\n",
       "      <td>the Left 10 years ago \"Keep government out of ...</td>\n",
       "      <td>Feminist Movement</td>\n",
       "      <td>AGAINST</td>\n",
       "      <td>2. The tweet does NOT expresses opinion about ...</td>\n",
       "      <td>neg</td>\n",
       "    </tr>\n",
       "    <tr>\n",
       "      <th>729</th>\n",
       "      <td>That #Putin chap must be extremely #confused, ...</td>\n",
       "      <td>Climate Change is a Real Concern</td>\n",
       "      <td>NONE</td>\n",
       "      <td>2. The tweet does NOT expresses opinion about ...</td>\n",
       "      <td>neg</td>\n",
       "    </tr>\n",
       "    <tr>\n",
       "      <th>534</th>\n",
       "      <td>Instead of : \"Let's have a quick word of praye...</td>\n",
       "      <td>Atheism</td>\n",
       "      <td>AGAINST</td>\n",
       "      <td>2. The tweet does NOT expresses opinion about ...</td>\n",
       "      <td>pos</td>\n",
       "    </tr>\n",
       "    <tr>\n",
       "      <th>2060</th>\n",
       "      <td>Do you know what would REALLY PISS .@HillaryCl...</td>\n",
       "      <td>Hillary Clinton</td>\n",
       "      <td>AGAINST</td>\n",
       "      <td>1.  The tweet explicitly expresses opinion abo...</td>\n",
       "      <td>neg</td>\n",
       "    </tr>\n",
       "  </tbody>\n",
       "</table>\n",
       "<p>1864 rows × 5 columns</p>\n",
       "</div>"
      ],
      "text/plain": [
       "                                                  Tweet  \\\n",
       "1904  @HillaryClinton said #AllLivesMatter just like...   \n",
       "888   Clean technology, this is your moment #innovat...   \n",
       "2194  @maddow I love Bern, but it's not his time! #S...   \n",
       "1892  America needs a champion!-H  No thanks,@Hillar...   \n",
       "2120  @HlLLARY @ToniforAsm Hillary for Prez = Obama'...   \n",
       "...                                                 ...   \n",
       "1816  @HillaryClinton Says the millionaire politicia...   \n",
       "1660  the Left 10 years ago \"Keep government out of ...   \n",
       "729   That #Putin chap must be extremely #confused, ...   \n",
       "534   Instead of : \"Let's have a quick word of praye...   \n",
       "2060  Do you know what would REALLY PISS .@HillaryCl...   \n",
       "\n",
       "                                Target   Stance  \\\n",
       "1904                   Hillary Clinton  AGAINST   \n",
       "888   Climate Change is a Real Concern    FAVOR   \n",
       "2194                   Hillary Clinton  AGAINST   \n",
       "1892                   Hillary Clinton  AGAINST   \n",
       "2120                   Hillary Clinton  AGAINST   \n",
       "...                                ...      ...   \n",
       "1816                   Hillary Clinton  AGAINST   \n",
       "1660                 Feminist Movement  AGAINST   \n",
       "729   Climate Change is a Real Concern     NONE   \n",
       "534                            Atheism  AGAINST   \n",
       "2060                   Hillary Clinton  AGAINST   \n",
       "\n",
       "                                        Opinion Towards Sentiment  \n",
       "1904  1.  The tweet explicitly expresses opinion abo...       neg  \n",
       "888   1.  The tweet explicitly expresses opinion abo...       pos  \n",
       "2194  2. The tweet does NOT expresses opinion about ...     other  \n",
       "1892  1.  The tweet explicitly expresses opinion abo...       neg  \n",
       "2120  2. The tweet does NOT expresses opinion about ...       neg  \n",
       "...                                                 ...       ...  \n",
       "1816  1.  The tweet explicitly expresses opinion abo...       neg  \n",
       "1660  2. The tweet does NOT expresses opinion about ...       neg  \n",
       "729   2. The tweet does NOT expresses opinion about ...       neg  \n",
       "534   2. The tweet does NOT expresses opinion about ...       pos  \n",
       "2060  1.  The tweet explicitly expresses opinion abo...       neg  \n",
       "\n",
       "[1864 rows x 5 columns]"
      ]
     },
     "execution_count": 13,
     "metadata": {},
     "output_type": "execute_result"
    }
   ],
   "source": [
    "training_data"
   ]
  },
  {
   "cell_type": "markdown",
   "metadata": {},
   "source": [
    "## Cleaning Data"
   ]
  },
  {
   "cell_type": "code",
   "execution_count": 14,
   "metadata": {},
   "outputs": [],
   "source": [
    "training_data = training_data.applymap(str)"
   ]
  },
  {
   "cell_type": "code",
   "execution_count": 15,
   "metadata": {},
   "outputs": [],
   "source": [
    "training_data[\"Tweet\"] = training_data[\"Tweet\"].apply(str)"
   ]
  },
  {
   "cell_type": "code",
   "execution_count": 16,
   "metadata": {},
   "outputs": [
    {
     "data": {
      "text/plain": [
       "<bound method DataFrame.info of                                                   Tweet  \\\n",
       "1904  @HillaryClinton said #AllLivesMatter just like...   \n",
       "888   Clean technology, this is your moment #innovat...   \n",
       "2194  @maddow I love Bern, but it's not his time! #S...   \n",
       "1892  America needs a champion!-H  No thanks,@Hillar...   \n",
       "2120  @HlLLARY @ToniforAsm Hillary for Prez = Obama'...   \n",
       "...                                                 ...   \n",
       "1816  @HillaryClinton Says the millionaire politicia...   \n",
       "1660  the Left 10 years ago \"Keep government out of ...   \n",
       "729   That #Putin chap must be extremely #confused, ...   \n",
       "534   Instead of : \"Let's have a quick word of praye...   \n",
       "2060  Do you know what would REALLY PISS .@HillaryCl...   \n",
       "\n",
       "                                Target   Stance  \\\n",
       "1904                   Hillary Clinton  AGAINST   \n",
       "888   Climate Change is a Real Concern    FAVOR   \n",
       "2194                   Hillary Clinton  AGAINST   \n",
       "1892                   Hillary Clinton  AGAINST   \n",
       "2120                   Hillary Clinton  AGAINST   \n",
       "...                                ...      ...   \n",
       "1816                   Hillary Clinton  AGAINST   \n",
       "1660                 Feminist Movement  AGAINST   \n",
       "729   Climate Change is a Real Concern     NONE   \n",
       "534                            Atheism  AGAINST   \n",
       "2060                   Hillary Clinton  AGAINST   \n",
       "\n",
       "                                        Opinion Towards Sentiment  \n",
       "1904  1.  The tweet explicitly expresses opinion abo...       neg  \n",
       "888   1.  The tweet explicitly expresses opinion abo...       pos  \n",
       "2194  2. The tweet does NOT expresses opinion about ...     other  \n",
       "1892  1.  The tweet explicitly expresses opinion abo...       neg  \n",
       "2120  2. The tweet does NOT expresses opinion about ...       neg  \n",
       "...                                                 ...       ...  \n",
       "1816  1.  The tweet explicitly expresses opinion abo...       neg  \n",
       "1660  2. The tweet does NOT expresses opinion about ...       neg  \n",
       "729   2. The tweet does NOT expresses opinion about ...       neg  \n",
       "534   2. The tweet does NOT expresses opinion about ...       pos  \n",
       "2060  1.  The tweet explicitly expresses opinion abo...       neg  \n",
       "\n",
       "[1864 rows x 5 columns]>"
      ]
     },
     "execution_count": 16,
     "metadata": {},
     "output_type": "execute_result"
    }
   ],
   "source": [
    "training_data.info"
   ]
  },
  {
   "cell_type": "code",
   "execution_count": 17,
   "metadata": {},
   "outputs": [],
   "source": [
    "\n",
    "# Apply a first round of text cleaning techniques\n",
    "import re\n",
    "import string\n",
    "\n",
    "def clean_text_round1(text):\n",
    "    '''Make text lowercase, remove text in square brackets, remove punctuation and remove words containing numbers.'''\n",
    "    text = text.lower()\n",
    "    text = re.sub('\\[.*?\\]', '', text)\n",
    "    text = re.sub('[%s]' % re.escape(string.punctuation), '', text)\n",
    "    text = re.sub('\\w*\\d\\w*', '', text)\n",
    "    return text\n",
    "round1 = lambda x: clean_text_round1(x)\n"
   ]
  },
  {
   "cell_type": "code",
   "execution_count": 18,
   "metadata": {},
   "outputs": [
    {
     "data": {
      "text/html": [
       "<div>\n",
       "<style scoped>\n",
       "    .dataframe tbody tr th:only-of-type {\n",
       "        vertical-align: middle;\n",
       "    }\n",
       "\n",
       "    .dataframe tbody tr th {\n",
       "        vertical-align: top;\n",
       "    }\n",
       "\n",
       "    .dataframe thead th {\n",
       "        text-align: right;\n",
       "    }\n",
       "</style>\n",
       "<table border=\"1\" class=\"dataframe\">\n",
       "  <thead>\n",
       "    <tr style=\"text-align: right;\">\n",
       "      <th></th>\n",
       "      <th>Tweet</th>\n",
       "      <th>Target</th>\n",
       "      <th>Stance</th>\n",
       "      <th>Opinion Towards</th>\n",
       "      <th>Sentiment</th>\n",
       "    </tr>\n",
       "  </thead>\n",
       "  <tbody>\n",
       "    <tr>\n",
       "      <th>1904</th>\n",
       "      <td>hillaryclinton said alllivesmatter just like s...</td>\n",
       "      <td>Hillary Clinton</td>\n",
       "      <td>AGAINST</td>\n",
       "      <td>1.  The tweet explicitly expresses opinion abo...</td>\n",
       "      <td>neg</td>\n",
       "    </tr>\n",
       "    <tr>\n",
       "      <th>888</th>\n",
       "      <td>clean technology this is your moment innovatio...</td>\n",
       "      <td>Climate Change is a Real Concern</td>\n",
       "      <td>FAVOR</td>\n",
       "      <td>1.  The tweet explicitly expresses opinion abo...</td>\n",
       "      <td>pos</td>\n",
       "    </tr>\n",
       "    <tr>\n",
       "      <th>2194</th>\n",
       "      <td>maddow i love bern but its not his time semst</td>\n",
       "      <td>Hillary Clinton</td>\n",
       "      <td>AGAINST</td>\n",
       "      <td>2. The tweet does NOT expresses opinion about ...</td>\n",
       "      <td>other</td>\n",
       "    </tr>\n",
       "    <tr>\n",
       "      <th>1892</th>\n",
       "      <td>america needs a championh  no thankshillarycli...</td>\n",
       "      <td>Hillary Clinton</td>\n",
       "      <td>AGAINST</td>\n",
       "      <td>1.  The tweet explicitly expresses opinion abo...</td>\n",
       "      <td>neg</td>\n",
       "    </tr>\n",
       "    <tr>\n",
       "      <th>2120</th>\n",
       "      <td>hlllary toniforasm hillary for prez  obamas th...</td>\n",
       "      <td>Hillary Clinton</td>\n",
       "      <td>AGAINST</td>\n",
       "      <td>2. The tweet does NOT expresses opinion about ...</td>\n",
       "      <td>neg</td>\n",
       "    </tr>\n",
       "  </tbody>\n",
       "</table>\n",
       "</div>"
      ],
      "text/plain": [
       "                                                  Tweet  \\\n",
       "1904  hillaryclinton said alllivesmatter just like s...   \n",
       "888   clean technology this is your moment innovatio...   \n",
       "2194      maddow i love bern but its not his time semst   \n",
       "1892  america needs a championh  no thankshillarycli...   \n",
       "2120  hlllary toniforasm hillary for prez  obamas th...   \n",
       "\n",
       "                                Target   Stance  \\\n",
       "1904                   Hillary Clinton  AGAINST   \n",
       "888   Climate Change is a Real Concern    FAVOR   \n",
       "2194                   Hillary Clinton  AGAINST   \n",
       "1892                   Hillary Clinton  AGAINST   \n",
       "2120                   Hillary Clinton  AGAINST   \n",
       "\n",
       "                                        Opinion Towards Sentiment  \n",
       "1904  1.  The tweet explicitly expresses opinion abo...       neg  \n",
       "888   1.  The tweet explicitly expresses opinion abo...       pos  \n",
       "2194  2. The tweet does NOT expresses opinion about ...     other  \n",
       "1892  1.  The tweet explicitly expresses opinion abo...       neg  \n",
       "2120  2. The tweet does NOT expresses opinion about ...       neg  "
      ]
     },
     "execution_count": 18,
     "metadata": {},
     "output_type": "execute_result"
    }
   ],
   "source": [
    "\n",
    "# Let's take a look at the updated text\n",
    "training_data['Tweet'] = training_data['Tweet'].apply(round1)\n",
    "training_data.head(5)"
   ]
  },
  {
   "cell_type": "code",
   "execution_count": 19,
   "metadata": {},
   "outputs": [],
   "source": [
    "# Apply a second round of cleaning\n",
    "def clean_text_round2(text):\n",
    "    '''Get rid of some additional punctuation and non-sensical text that was missed the first time around.'''\n",
    "    text = re.sub('[‘’“”…]', '', text)\n",
    "    text = re.sub('\\n', '', text)\n",
    "    return text\n",
    "round2 = lambda x: clean_text_round2(x)\n"
   ]
  },
  {
   "cell_type": "code",
   "execution_count": 23,
   "metadata": {},
   "outputs": [
    {
     "data": {
      "text/html": [
       "<div>\n",
       "<style scoped>\n",
       "    .dataframe tbody tr th:only-of-type {\n",
       "        vertical-align: middle;\n",
       "    }\n",
       "\n",
       "    .dataframe tbody tr th {\n",
       "        vertical-align: top;\n",
       "    }\n",
       "\n",
       "    .dataframe thead th {\n",
       "        text-align: right;\n",
       "    }\n",
       "</style>\n",
       "<table border=\"1\" class=\"dataframe\">\n",
       "  <thead>\n",
       "    <tr style=\"text-align: right;\">\n",
       "      <th></th>\n",
       "      <th>Tweet</th>\n",
       "      <th>Target</th>\n",
       "      <th>Stance</th>\n",
       "      <th>Opinion Towards</th>\n",
       "      <th>Sentiment</th>\n",
       "    </tr>\n",
       "  </thead>\n",
       "  <tbody>\n",
       "    <tr>\n",
       "      <th>1904</th>\n",
       "      <td>hillaryclinton said alllivesmatter just like s...</td>\n",
       "      <td>Hillary Clinton</td>\n",
       "      <td>AGAINST</td>\n",
       "      <td>1.  The tweet explicitly expresses opinion abo...</td>\n",
       "      <td>neg</td>\n",
       "    </tr>\n",
       "    <tr>\n",
       "      <th>888</th>\n",
       "      <td>clean technology this is your moment innovatio...</td>\n",
       "      <td>Climate Change is a Real Concern</td>\n",
       "      <td>FAVOR</td>\n",
       "      <td>1.  The tweet explicitly expresses opinion abo...</td>\n",
       "      <td>pos</td>\n",
       "    </tr>\n",
       "    <tr>\n",
       "      <th>2194</th>\n",
       "      <td>maddow i love bern but its not his time semst</td>\n",
       "      <td>Hillary Clinton</td>\n",
       "      <td>AGAINST</td>\n",
       "      <td>2. The tweet does NOT expresses opinion about ...</td>\n",
       "      <td>other</td>\n",
       "    </tr>\n",
       "    <tr>\n",
       "      <th>1892</th>\n",
       "      <td>america needs a championh  no thankshillarycli...</td>\n",
       "      <td>Hillary Clinton</td>\n",
       "      <td>AGAINST</td>\n",
       "      <td>1.  The tweet explicitly expresses opinion abo...</td>\n",
       "      <td>neg</td>\n",
       "    </tr>\n",
       "    <tr>\n",
       "      <th>2120</th>\n",
       "      <td>hlllary toniforasm hillary for prez  obamas th...</td>\n",
       "      <td>Hillary Clinton</td>\n",
       "      <td>AGAINST</td>\n",
       "      <td>2. The tweet does NOT expresses opinion about ...</td>\n",
       "      <td>neg</td>\n",
       "    </tr>\n",
       "  </tbody>\n",
       "</table>\n",
       "</div>"
      ],
      "text/plain": [
       "                                                  Tweet  \\\n",
       "1904  hillaryclinton said alllivesmatter just like s...   \n",
       "888   clean technology this is your moment innovatio...   \n",
       "2194      maddow i love bern but its not his time semst   \n",
       "1892  america needs a championh  no thankshillarycli...   \n",
       "2120  hlllary toniforasm hillary for prez  obamas th...   \n",
       "\n",
       "                                Target   Stance  \\\n",
       "1904                   Hillary Clinton  AGAINST   \n",
       "888   Climate Change is a Real Concern    FAVOR   \n",
       "2194                   Hillary Clinton  AGAINST   \n",
       "1892                   Hillary Clinton  AGAINST   \n",
       "2120                   Hillary Clinton  AGAINST   \n",
       "\n",
       "                                        Opinion Towards Sentiment  \n",
       "1904  1.  The tweet explicitly expresses opinion abo...       neg  \n",
       "888   1.  The tweet explicitly expresses opinion abo...       pos  \n",
       "2194  2. The tweet does NOT expresses opinion about ...     other  \n",
       "1892  1.  The tweet explicitly expresses opinion abo...       neg  \n",
       "2120  2. The tweet does NOT expresses opinion about ...       neg  "
      ]
     },
     "execution_count": 23,
     "metadata": {},
     "output_type": "execute_result"
    }
   ],
   "source": [
    "# Let's take a look at the updated text\n",
    "training_data['Tweet'] = training_data['Tweet'].apply(round2)\n",
    "training_data.head(5)"
   ]
  },
  {
   "cell_type": "markdown",
   "metadata": {},
   "source": [
    "## Data Engineering"
   ]
  },
  {
   "cell_type": "code",
   "execution_count": 22,
   "metadata": {},
   "outputs": [
    {
     "ename": "ModuleNotFoundError",
     "evalue": "No module named 'spacy'",
     "output_type": "error",
     "traceback": [
      "\u001b[0;31m---------------------------------------------------------------------------\u001b[0m",
      "\u001b[0;31mModuleNotFoundError\u001b[0m                       Traceback (most recent call last)",
      "\u001b[0;32m<ipython-input-22-327cd4d33a67>\u001b[0m in \u001b[0;36m<module>\u001b[0;34m\u001b[0m\n\u001b[0;32m----> 1\u001b[0;31m \u001b[0;32mimport\u001b[0m \u001b[0mspacy\u001b[0m   \u001b[0;31m# for tokenising text\u001b[0m\u001b[0;34m\u001b[0m\u001b[0;34m\u001b[0m\u001b[0m\n\u001b[0m\u001b[1;32m      2\u001b[0m \u001b[0;32mfrom\u001b[0m \u001b[0mspacy\u001b[0m\u001b[0;34m.\u001b[0m\u001b[0mlang\u001b[0m\u001b[0;34m.\u001b[0m\u001b[0men\u001b[0m \u001b[0;32mimport\u001b[0m \u001b[0mEnglish\u001b[0m  \u001b[0;31m# for tokenising text\u001b[0m\u001b[0;34m\u001b[0m\u001b[0;34m\u001b[0m\u001b[0m\n\u001b[1;32m      3\u001b[0m \u001b[0mnlp\u001b[0m \u001b[0;34m=\u001b[0m \u001b[0mEnglish\u001b[0m\u001b[0;34m(\u001b[0m\u001b[0;34m)\u001b[0m   \u001b[0;31m# for tokenising text\u001b[0m\u001b[0;34m\u001b[0m\u001b[0;34m\u001b[0m\u001b[0m\n\u001b[1;32m      4\u001b[0m \u001b[0;32mfrom\u001b[0m \u001b[0mcollections\u001b[0m \u001b[0;32mimport\u001b[0m \u001b[0mCounter\u001b[0m\u001b[0;34m\u001b[0m\u001b[0;34m\u001b[0m\u001b[0m\n",
      "\u001b[0;31mModuleNotFoundError\u001b[0m: No module named 'spacy'"
     ]
    }
   ],
   "source": [
    "import spacy   # for tokenising text\n",
    "from spacy.lang.en import English  # for tokenising text\n",
    "nlp = English()   # for tokenising text\n",
    "from collections import Counter"
   ]
  },
  {
   "cell_type": "code",
   "execution_count": null,
   "metadata": {},
   "outputs": [],
   "source": []
  }
 ],
 "metadata": {
  "kernelspec": {
   "display_name": "conda_amazonei_tensorflow2_p36",
   "language": "python",
   "name": "conda_amazonei_tensorflow2_p36"
  },
  "language_info": {
   "codemirror_mode": {
    "name": "ipython",
    "version": 3
   },
   "file_extension": ".py",
   "mimetype": "text/x-python",
   "name": "python",
   "nbconvert_exporter": "python",
   "pygments_lexer": "ipython3",
   "version": "3.6.10"
  }
 },
 "nbformat": 4,
 "nbformat_minor": 4
}
